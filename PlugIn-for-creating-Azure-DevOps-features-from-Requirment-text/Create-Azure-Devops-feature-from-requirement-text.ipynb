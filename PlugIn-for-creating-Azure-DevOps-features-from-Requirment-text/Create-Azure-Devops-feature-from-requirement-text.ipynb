{
 "cells": [
  {
   "cell_type": "markdown",
   "id": "3c93ac5b",
   "metadata": {},
   "source": [
    "# Semantic Kernel\n",
    "![Alt text](image-1.png)         ![Alt text](image.png)"
   ]
  },
  {
   "cell_type": "markdown",
   "id": "1bc1e18e",
   "metadata": {},
   "source": [
    "![Alt text](image-2.png)"
   ]
  },
  {
   "attachments": {},
   "cell_type": "markdown",
   "id": "40201641",
   "metadata": {
    "tags": [
     "funtion"
    ]
   },
   "source": [
    "Install all python libraries"
   ]
  },
  {
   "attachments": {},
   "cell_type": "markdown",
   "id": "d90b0c13",
   "metadata": {},
   "source": [
    "Prepare a semantic kernel instance first, loading also the AI service settings defined in the [Setup notebook](00-getting-started.ipynb):"
   ]
  },
  {
   "cell_type": "code",
   "execution_count": null,
   "id": "1da651d4",
   "metadata": {},
   "outputs": [],
   "source": [
    "!python -m pip install semantic-kernel==0.3.10.dev0\n",
    "!python -m pip install azure-devops\n",
    "!python -m pip install semantic-kernel==0.3.10.dev0\n",
    "!python -m pip install azure-search-documents==11.3.0b1 # you need to copy source as latest release also does not have all the models\n",
    "#!python -m pip install azure-mgmt-search --pre --upgrade"
   ]
  },
  {
   "cell_type": "markdown",
   "id": "c460e218",
   "metadata": {},
   "source": [
    "Import Packages required"
   ]
  },
  {
   "cell_type": "code",
   "execution_count": 1,
   "id": "dd150646",
   "metadata": {},
   "outputs": [],
   "source": [
    "import os\n",
    "from dotenv import dotenv_values\n",
    "import semantic_kernel as sk\n",
    "from semantic_kernel import ContextVariables, Kernel # Context to store variables and Kernel to interact with the kernel\n",
    "from semantic_kernel.connectors.ai.open_ai import AzureChatCompletion, OpenAIChatCompletion # AI services\n",
    "from semantic_kernel.planning.sequential_planner import SequentialPlanner # Planner\n",
    "from semantic_kernel.planning.basic_planner import BasicPlanner # Planner\n",
    "\n",
    "\n",
    "kernel = sk.Kernel() # Create a kernel instance\n",
    "kernel1 = sk.Kernel() #create another kernel instance for not having semanitc function in the same kernel \n",
    "\n",
    "useAzureOpenAI = True\n",
    "\n",
    "# Configure AI service used by the kernel\n",
    "if useAzureOpenAI:\n",
    "    deployment, api_key, endpoint = sk.azure_openai_settings_from_dot_env()\n",
    "    kernel.add_chat_service(\"chat_completion\", AzureChatCompletion(deployment, endpoint, api_key))\n",
    "    kernel1.add_chat_service(\"chat_completion\", AzureChatCompletion(deployment, endpoint, api_key))\n",
    "else:\n",
    "    api_key, org_id = sk.openai_settings_from_dot_env()\n",
    "    kernel.add_chat_service(\"chat-gpt\", OpenAIChatCompletion(\"gpt-3.5-turbo\", api_key, org_id))"
   ]
  },
  {
   "cell_type": "code",
   "execution_count": 4,
   "id": "d537cdae",
   "metadata": {},
   "outputs": [
    {
     "data": {
      "text/plain": [
       "('ContosoDemos-OpenAI-gpt-35-turbo',\n",
       " 'a33c3a92d6694dedad2bf1e2fb7a9c48',\n",
       " 'https://ch1-open-ai.openai.azure.com/')"
      ]
     },
     "execution_count": 4,
     "metadata": {},
     "output_type": "execute_result"
    }
   ],
   "source": [
    "deployment, api_key, endpoint"
   ]
  },
  {
   "attachments": {},
   "cell_type": "markdown",
   "id": "589733c5",
   "metadata": {},
   "source": [
    "Import the **Semantic functions**:Azuredevops\n"
   ]
  },
  {
   "cell_type": "code",
   "execution_count": 19,
   "id": "f0183226",
   "metadata": {},
   "outputs": [],
   "source": [
    "# note: using skills from the samples folder\n",
    "plugins_directory = \"./plugins\"\n",
    "\n",
    "    # Import the semantic functions\n",
    "DevFunctions=kernel1.import_semantic_skill_from_directory(plugins_directory, \"AzureDevOps\")\n",
    "\n"
   ]
  },
  {
   "cell_type": "markdown",
   "id": "f0410c8b",
   "metadata": {},
   "source": [
    "-Feature description - To genrate feature description based on predefined template\n"
   ]
  },
  {
   "cell_type": "code",
   "execution_count": 6,
   "id": "5cdc4b2d",
   "metadata": {},
   "outputs": [
    {
     "name": "stdout",
     "output_type": "stream",
     "text": [
      "Feature Title: Azure Resource Group Configuration Export and Infrastructure as Code (IAC) Generation\n",
      "\n",
      "Description: This feature allows users to export Azure Resource Group configurations and generate Infrastructure as Code (IAC) templates for easy deployment and management of resources. It addresses the pain point of manual configuration and deployment of resources, which can be time-consuming and error-prone. This feature is significant to the product as it improves the efficiency and accuracy of resource management, reducing the risk of misconfiguration and downtime.\n",
      "\n",
      "User Needs:\n",
      "- Users need an easy way to export Azure Resource Group configurations.\n",
      "- Users need a way to generate IAC templates for easy deployment and management of resources.\n",
      "- Users need to reduce the risk of misconfiguration and downtime.\n",
      "\n",
      "Functional Requirements:\n",
      "- Ability to export Azure Resource Group configurations.\n",
      "- Ability to generate IAC templates for easy deployment and management of resources.\n",
      "- Support for multiple IAC formats (e.g. ARM templates, Terraform).\n",
      "- Ability to customize IAC templates to meet specific requirements.\n",
      "\n",
      "Non-Functional Requirements:\n",
      "- Security and compliance with Azure best practices.\n",
      "- Scalability to support large-scale deployments.\n",
      "- Performance and reliability to ensure smooth resource management.\n",
      "\n",
      "Feature Scope:\n",
      "- Ability to export Azure Resource Group configurations.\n",
      "- Ability to generate ARM and Terraform IAC templates.\n",
      "- Customization of IAC templates through parameterization.\n"
     ]
    }
   ],
   "source": [
    "FDesFunction = DevFunctions[\"FeatureDescription\"]    \n",
    "resultFD = FDesFunction(\"Azure Resource Group Configuration Export and Infrastructure as Code (IAC) Generation\")\n",
    "\n",
    "print(resultFD)\n"
   ]
  },
  {
   "cell_type": "markdown",
   "id": "60fe8f62",
   "metadata": {},
   "source": [
    "-Identify unser stories - Identify user stories from feature description"
   ]
  },
  {
   "cell_type": "code",
   "execution_count": 7,
   "id": "c628b3e9",
   "metadata": {},
   "outputs": [
    {
     "name": "stdout",
     "output_type": "stream",
     "text": [
      "\"User Stories\": [\n",
      "{\"UserStory\" : \"As a cloud administrator, I want to export Azure Resource Group configurations, so that I can easily manage and deploy resources.\",\n",
      " \"Description\": \"The user needs to be able to export the configurations of an Azure Resource Group in a simple and efficient way.\",\n",
      " \"Acceptance Criteria\": Given an Azure Resource Group, when the user selects the export option, then a file containing the configurations is generated and downloaded.\"},\n",
      "{\"UserStory\" : \"As a cloud administrator, I want to generate ARM and Terraform IAC templates, so that I can easily deploy and manage resources.\",\n",
      " \"Description\": \"The user needs to be able to generate Infrastructure as Code templates in both ARM and Terraform formats.\",\n",
      " \"Acceptance Criteria\": Given an Azure Resource Group, when the user selects the generate IAC templates option, then both ARM and Terraform templates are generated and downloaded.\"},\n",
      "{\"UserStory\" : \"As a cloud administrator, I want to customize IAC templates through parameterization, so that I can meet specific requirements.\",\n",
      " \"Description\": \"The user needs to be able to customize the generated IAC templates to meet specific requirements.\",\n",
      " \"Acceptance Criteria\": Given an Azure Resource Group and generated IAC templates, when the user selects the customize option, then they can modify the templates through parameterization and download the customized templates.\"}\n",
      "]\n"
     ]
    }
   ],
   "source": [
    "UDesFunction = DevFunctions[\"IdentifyUserStory\"]    \n",
    "resultUD = UDesFunction(str(resultFD))\n",
    "\n",
    "print(resultUD)"
   ]
  },
  {
   "cell_type": "markdown",
   "id": "67a17277",
   "metadata": {},
   "source": [
    "Importing and executing **Native plugin** - \n",
    "- Create- It creates feature in azure devops features with nested call to semantic function to genrate feature description"
   ]
  },
  {
   "cell_type": "code",
   "execution_count": 8,
   "id": "870c81db",
   "metadata": {},
   "outputs": [
    {
     "name": "stdout",
     "output_type": "stream",
     "text": [
      "\"Efficient Pipeline Creation\" Feature created successfully\n"
     ]
    }
   ],
   "source": [
    "from plugins.AzureDevops.Feature_nested import feature\n",
    "math_plugin = kernel.import_skill(feature(kernel1), skill_name=\"AzureDevOps\")\n",
    "variables = ContextVariables()\n",
    "variables[\"title\"] = \"creating a nice pipelines\"\n",
    "variables[\"description\"] = \"test\"\n",
    "result = await kernel.run_async(\n",
    "                math_plugin[\"create\"], input_vars=variables\n",
    "            )\n",
    "print(result)"
   ]
  },
  {
   "cell_type": "markdown",
   "id": "49cb58e7",
   "metadata": {},
   "source": [
    "Using Basic planner to achive goal by sticking all the fuctions togather."
   ]
  },
  {
   "cell_type": "code",
   "execution_count": 10,
   "id": "2b61fa8c",
   "metadata": {},
   "outputs": [
    {
     "name": "stdout",
     "output_type": "stream",
     "text": [
      "{\n",
      "        \"input\": \"IaC transcript\",\n",
      "        \"subtasks\": [\n",
      "            {\"function\": \"AzureDevOps.create\", \"args\": {\"description\": \"Feature 1\", \"title\": \"IaC Feature 1\"}},\n",
      "            {\"function\": \"AzureDevOps.create\", \"args\": {\"description\": \"Feature 2\", \"title\": \"IaC Feature 2\"}},\n",
      "            {\"function\": \"AzureDevOps.create\", \"args\": {\"description\": \"Feature 3\", \"title\": \"IaC Feature 3\"}},\n",
      "            {\"function\": \"AzureDevOps.create\", \"args\": {\"description\": \"Feature 4\", \"title\": \"IaC Feature 4\"}},\n",
      "            {\"function\": \"AzureDevOps.create\", \"args\": {\"description\": \"Feature 5\", \"title\": \"IaC Feature 5\"}}\n",
      "        ]\n",
      "    }\n"
     ]
    }
   ],
   "source": [
    "from plugins.AzureDevops.Feature_nested import feature\n",
    "planner = BasicPlanner()\n",
    "# Import the native functions\n",
    "math_plugin = kernel.import_skill(feature(kernel1), skill_name=\"AzureDevOps\")\n",
    "ask = \"create 5 Azure DevOps features based on transcript for IaC generation\"\n",
    "plan = await planner.create_plan_async(ask, kernel)\n",
    "print(plan.generated_plan)"
   ]
  },
  {
   "cell_type": "code",
   "execution_count": 29,
   "id": "3a70cd98",
   "metadata": {},
   "outputs": [
    {
     "data": {
      "text/plain": [
       "{'input': 'IaC transcript',\n",
       " 'subtasks': [{'function': 'AzureDevOps.create',\n",
       "   'args': {'description': 'Feature 1', 'title': 'IaC Feature 1'}},\n",
       "  {'function': 'AzureDevOps.create',\n",
       "   'args': {'description': 'Feature 2', 'title': 'IaC Feature 2'}},\n",
       "  {'function': 'AzureDevOps.create',\n",
       "   'args': {'description': 'Feature 3', 'title': 'IaC Feature 3'}},\n",
       "  {'function': 'AzureDevOps.create',\n",
       "   'args': {'description': 'Feature 4', 'title': 'IaC Feature 4'}},\n",
       "  {'function': 'AzureDevOps.create',\n",
       "   'args': {'description': 'Feature 5', 'title': 'IaC Feature 5'}}]}"
      ]
     },
     "execution_count": 29,
     "metadata": {},
     "output_type": "execute_result"
    }
   ],
   "source": [
    "import json\n",
    "\n",
    "subtasks=json.loads(str(plan.generated_plan))\n",
    "subtasks"
   ]
  },
  {
   "cell_type": "markdown",
   "id": "164c84dd",
   "metadata": {},
   "source": [
    "Excute plan based on steps from planner function"
   ]
  },
  {
   "cell_type": "code",
   "execution_count": 30,
   "id": "0c61865c",
   "metadata": {},
   "outputs": [
    {
     "name": "stdout",
     "output_type": "stream",
     "text": [
      "Plan results:\n",
      "\"Automated Configuration Management\"Feature created unsuccessfully\n",
      "Plan results:\n",
      "\"Automated Configuration Management\" Feature created successfully\n"
     ]
    }
   ],
   "source": [
    "# Execute the plan\n",
    "for index, subtask in enumerate(subtasks, start=1):\n",
    "    result = await planner.execute_plan_async(plan, kernel)\n",
    "    print(\"Plan results:\")\n",
    "    print(result)\n"
   ]
  },
  {
   "cell_type": "markdown",
   "id": "7316e0bd",
   "metadata": {},
   "source": [
    "**Sequential planner**"
   ]
  },
  {
   "cell_type": "code",
   "execution_count": 17,
   "metadata": {},
   "outputs": [
    {
     "name": "stdout",
     "output_type": "stream",
     "text": [
      "create a Azure DevOps feature with description : {'variables': {'input': ''}}\n",
      "create a Azure DevOps feature with description : {'variables': {'input': ''}}\n"
     ]
    }
   ],
   "source": [
    "from plugins.AzureDevops.Feature_nested import feature\n",
    "planner = SequentialPlanner(kernel)\n",
    "# Import the native functions\n",
    "math_plugin = kernel.import_skill(feature(kernel1), skill_name=\"AzureDevOps\")\n",
    "ask = \"create two Azure DevOps features for one with title creating chai and one with creating work items with standard feature title and description\"\n",
    "plan = await planner.create_plan_async(goal=ask)\n",
    "for step in plan._steps:\n",
    "        print(step.description, \":\", step._state.__dict__)\n"
   ]
  },
  {
   "cell_type": "code",
   "execution_count": 23,
   "id": "df2ddec5",
   "metadata": {},
   "outputs": [
    {
     "name": "stdout",
     "output_type": "stream",
     "text": [
      "Plan results:\n",
      "create a Azure DevOps feature with description : {'variables': {'input': ''}}\n",
      "create a Azure DevOps feature with description : {'variables': {'input': ''}}\n"
     ]
    }
   ],
   "source": [
    "\n",
    "print(\"Plan results:\")\n",
    "result = await plan.invoke_async(ask)\n",
    "for step in plan._steps:\n",
    "        print(step.description, \":\", step._state.__dict__)"
   ]
  },
  {
   "cell_type": "markdown",
   "id": "920546df",
   "metadata": {},
   "source": [
    "**Action Planner**"
   ]
  },
  {
   "cell_type": "code",
   "execution_count": 25,
   "id": "02466e42",
   "metadata": {},
   "outputs": [],
   "source": [
    "from semantic_kernel.planning import ActionPlanner\n",
    "planner = ActionPlanner(kernel)\n",
    "ask = \"create identify Azure DevOps features for one with title office work and one with self learning with standard feature title and description\"\n",
    "plan = await planner.create_plan_async(goal=ask)\n",
    "for step in plan._steps:\n",
    "        print(step.description, \":\", step._state.__dict__)"
   ]
  },
  {
   "cell_type": "markdown",
   "id": "50166f9a",
   "metadata": {},
   "source": [
    " Execute sequential"
   ]
  },
  {
   "cell_type": "code",
   "execution_count": 28,
   "id": "1d6fd544",
   "metadata": {},
   "outputs": [],
   "source": [
    "result = await plan.invoke_async()\n"
   ]
  },
  {
   "cell_type": "code",
   "execution_count": 29,
   "id": "1db9528d",
   "metadata": {},
   "outputs": [
    {
     "data": {
      "text/plain": [
       "SKContext(memory=<semantic_kernel.memory.null_memory.NullMemory object at 0x0000029257662650>, variables=ContextVariables(variables={'input': '\"Automated Email Reminders\" Feature created successfully', 'description': 'Standard feature description.', 'title': 'office work'}), skill_collection=ReadOnlySkillCollection(data={}))"
      ]
     },
     "execution_count": 29,
     "metadata": {},
     "output_type": "execute_result"
    }
   ],
   "source": [
    "result"
   ]
  },
  {
   "cell_type": "markdown",
   "id": "74f9ffae",
   "metadata": {},
   "source": [
    "Importing packages required for preparing and using our our data"
   ]
  },
  {
   "cell_type": "code",
   "execution_count": 2,
   "id": "4e9910c8",
   "metadata": {},
   "outputs": [],
   "source": [
    "import semantic_kernel as sk\n",
    "from semantic_kernel.connectors.ai.open_ai import (\n",
    "    AzureTextCompletion,\n",
    "    AzureTextEmbedding,\n",
    ")\n",
    "\n",
    "\n",
    "from semantic_kernel.connectors.memory.azure_cognitive_search import (\n",
    "    AzureCognitiveSearchMemoryStore,\n",
    ")\n"
   ]
  },
  {
   "cell_type": "markdown",
   "id": "ca49c74f",
   "metadata": {},
   "source": [
    "Register chat completion end point and Embeded model for preparing memory and quering the data"
   ]
  },
  {
   "cell_type": "code",
   "execution_count": 3,
   "id": "ccf0ad44",
   "metadata": {},
   "outputs": [
    {
     "data": {
      "text/plain": [
       "<semantic_kernel.kernel.Kernel at 0x13b0a71e550>"
      ]
     },
     "execution_count": 3,
     "metadata": {},
     "output_type": "execute_result"
    }
   ],
   "source": [
    "kernel = sk.Kernel()\n",
    "\n",
    "config = dotenv_values(\".env\")\n",
    "COLLECTION_NAME = \"carml-index-sample\"\n",
    "\n",
    "AZURE_COGNITIVE_SEARCH_ENDPOINT = config[\"AZURE_COGNITIVE_SEARCH_ENDPOINT\"]\n",
    "AZURE_COGNITIVE_SEARCH_ADMIN_KEY = config[\"AZURE_COGNITIVE_SEARCH_ADMIN_KEY\"]\n",
    "AZURE_OPENAI_API_KEY = config[\"AZURE_OPENAI_API_KEY\"]\n",
    "AZURE_OPENAI_ENDPOINT = config[\"AZURE_OPENAI_ENDPOINT\"]\n",
    "AZURE_OPENAI_EM_DEPLOYMENT_NAME = config[\"AZURE_OPENAI_EM_DEPLOYMENT_NAME\"]\n",
    "AZURE_OPENAI_DEPLOYMENT_NAME = config[\"AZURE_OPENAI_DEPLOYMENT_NAME\"]\n",
    "vector_size = 1536\n",
    "\n",
    "kernel.add_text_completion_service(\n",
    "        \"dv\",\n",
    "        AzureTextCompletion(\n",
    "            deployment_name=AZURE_OPENAI_DEPLOYMENT_NAME,\n",
    "            endpoint=AZURE_OPENAI_ENDPOINT,\n",
    "            api_key=AZURE_OPENAI_API_KEY,\n",
    "        ),\n",
    "    )\n",
    "kernel.add_text_embedding_generation_service(\n",
    "       \"ada\",\n",
    "        AzureTextEmbedding(\n",
    "            deployment_name=AZURE_OPENAI_EM_DEPLOYMENT_NAME,\n",
    "            endpoint=AZURE_OPENAI_ENDPOINT,\n",
    "            api_key=AZURE_OPENAI_API_KEY,\n",
    "        ),\n",
    "    )"
   ]
  },
  {
   "cell_type": "markdown",
   "id": "344713f6",
   "metadata": {},
   "source": [
    "Initiating Endpoint for connecting with Azure cognitive search"
   ]
  },
  {
   "cell_type": "code",
   "execution_count": 4,
   "id": "b9442a7c",
   "metadata": {},
   "outputs": [],
   "source": [
    "\n",
    "kernel.register_memory_store(memory_store=sk.memory.VolatileMemoryStore())\n",
    "kernel.import_skill(sk.core_skills.TextMemorySkill())\n",
    "connector = AzureCognitiveSearchMemoryStore(\n",
    "        vector_size, AZURE_COGNITIVE_SEARCH_ENDPOINT, AZURE_COGNITIVE_SEARCH_ADMIN_KEY\n",
    "    )\n",
    "\n",
    "    # Register the memory store with the kernel\n",
    "kernel.register_memory_store(memory_store=connector)\n"
   ]
  },
  {
   "cell_type": "markdown",
   "id": "95e90352",
   "metadata": {},
   "source": [
    "Populating information in cognitive serach using Embeding model\n",
    "\n",
    "I have some CARML biceps which i am uploading in the cognitive search"
   ]
  },
  {
   "cell_type": "code",
   "execution_count": 5,
   "id": "27c239aa",
   "metadata": {},
   "outputs": [
    {
     "ename": "AIException",
     "evalue": "(<ErrorCodes.ServiceError: 6>, 'OpenAI service failed to generate embeddings', InvalidRequestError(message=\"This model's maximum context length is 8191 tokens, however you requested 9631 tokens (9631 in your prompt; 0 for the completion). Please reduce your prompt; or completion length.\", param=None, code=None, http_status=400, request_id=None))",
     "output_type": "error",
     "traceback": [
      "\u001b[1;31m---------------------------------------------------------------------------\u001b[0m",
      "\u001b[1;31mInvalidRequestError\u001b[0m                       Traceback (most recent call last)",
      "File \u001b[1;32mc:\\ProgramData\\Python\\Lib\\site-packages\\semantic_kernel\\connectors\\ai\\open_ai\\services\\open_ai_text_embedding.py:69\u001b[0m, in \u001b[0;36mOpenAITextEmbedding.generate_embeddings_async\u001b[1;34m(self, texts, batch_size)\u001b[0m\n\u001b[0;32m     68\u001b[0m batch \u001b[39m=\u001b[39m texts[i : i \u001b[39m+\u001b[39m batch_size]\n\u001b[1;32m---> 69\u001b[0m response: Any \u001b[39m=\u001b[39m \u001b[39mawait\u001b[39;00m openai\u001b[39m.\u001b[39mEmbedding\u001b[39m.\u001b[39macreate(\n\u001b[0;32m     70\u001b[0m     \u001b[39m*\u001b[39m\u001b[39m*\u001b[39mmodel_args,\n\u001b[0;32m     71\u001b[0m     api_key\u001b[39m=\u001b[39m\u001b[39mself\u001b[39m\u001b[39m.\u001b[39m_api_key,\n\u001b[0;32m     72\u001b[0m     api_type\u001b[39m=\u001b[39m\u001b[39mself\u001b[39m\u001b[39m.\u001b[39m_api_type,\n\u001b[0;32m     73\u001b[0m     api_base\u001b[39m=\u001b[39m\u001b[39mself\u001b[39m\u001b[39m.\u001b[39m_endpoint,\n\u001b[0;32m     74\u001b[0m     api_version\u001b[39m=\u001b[39m\u001b[39mself\u001b[39m\u001b[39m.\u001b[39m_api_version,\n\u001b[0;32m     75\u001b[0m     organization\u001b[39m=\u001b[39m\u001b[39mself\u001b[39m\u001b[39m.\u001b[39m_org_id,\n\u001b[0;32m     76\u001b[0m     \u001b[39minput\u001b[39m\u001b[39m=\u001b[39mbatch,\n\u001b[0;32m     77\u001b[0m )\n\u001b[0;32m     78\u001b[0m \u001b[39m# make numpy arrays from the response\u001b[39;00m\n",
      "File \u001b[1;32mc:\\ProgramData\\Python\\Lib\\site-packages\\openai\\api_resources\\embedding.py:73\u001b[0m, in \u001b[0;36mEmbedding.acreate\u001b[1;34m(cls, *args, **kwargs)\u001b[0m\n\u001b[0;32m     72\u001b[0m \u001b[39mtry\u001b[39;00m:\n\u001b[1;32m---> 73\u001b[0m     response \u001b[39m=\u001b[39m \u001b[39mawait\u001b[39;00m \u001b[39msuper\u001b[39m()\u001b[39m.\u001b[39macreate(\u001b[39m*\u001b[39margs, \u001b[39m*\u001b[39m\u001b[39m*\u001b[39mkwargs)\n\u001b[0;32m     75\u001b[0m     \u001b[39m# If a user specifies base64, we'll just return the encoded string.\u001b[39;00m\n\u001b[0;32m     76\u001b[0m     \u001b[39m# This is only for the default case.\u001b[39;00m\n",
      "File \u001b[1;32mc:\\ProgramData\\Python\\Lib\\site-packages\\openai\\api_resources\\abstract\\engine_api_resource.py:217\u001b[0m, in \u001b[0;36mEngineAPIResource.acreate\u001b[1;34m(cls, api_key, api_base, api_type, request_id, api_version, organization, **params)\u001b[0m\n\u001b[0;32m    203\u001b[0m (\n\u001b[0;32m    204\u001b[0m     deployment_id,\n\u001b[0;32m    205\u001b[0m     engine,\n\u001b[1;32m   (...)\u001b[0m\n\u001b[0;32m    215\u001b[0m     api_key, api_base, api_type, api_version, organization, \u001b[39m*\u001b[39m\u001b[39m*\u001b[39mparams\n\u001b[0;32m    216\u001b[0m )\n\u001b[1;32m--> 217\u001b[0m response, _, api_key \u001b[39m=\u001b[39m \u001b[39mawait\u001b[39;00m requestor\u001b[39m.\u001b[39marequest(\n\u001b[0;32m    218\u001b[0m     \u001b[39m\"\u001b[39m\u001b[39mpost\u001b[39m\u001b[39m\"\u001b[39m,\n\u001b[0;32m    219\u001b[0m     url,\n\u001b[0;32m    220\u001b[0m     params\u001b[39m=\u001b[39mparams,\n\u001b[0;32m    221\u001b[0m     headers\u001b[39m=\u001b[39mheaders,\n\u001b[0;32m    222\u001b[0m     stream\u001b[39m=\u001b[39mstream,\n\u001b[0;32m    223\u001b[0m     request_id\u001b[39m=\u001b[39mrequest_id,\n\u001b[0;32m    224\u001b[0m     request_timeout\u001b[39m=\u001b[39mrequest_timeout,\n\u001b[0;32m    225\u001b[0m )\n\u001b[0;32m    227\u001b[0m \u001b[39mif\u001b[39;00m stream:\n\u001b[0;32m    228\u001b[0m     \u001b[39m# must be an iterator\u001b[39;00m\n",
      "File \u001b[1;32mc:\\ProgramData\\Python\\Lib\\site-packages\\openai\\api_requestor.py:382\u001b[0m, in \u001b[0;36mAPIRequestor.arequest\u001b[1;34m(self, method, url, params, headers, files, stream, request_id, request_timeout)\u001b[0m\n\u001b[0;32m    372\u001b[0m     result \u001b[39m=\u001b[39m \u001b[39mawait\u001b[39;00m \u001b[39mself\u001b[39m\u001b[39m.\u001b[39marequest_raw(\n\u001b[0;32m    373\u001b[0m         method\u001b[39m.\u001b[39mlower(),\n\u001b[0;32m    374\u001b[0m         url,\n\u001b[1;32m   (...)\u001b[0m\n\u001b[0;32m    380\u001b[0m         request_timeout\u001b[39m=\u001b[39mrequest_timeout,\n\u001b[0;32m    381\u001b[0m     )\n\u001b[1;32m--> 382\u001b[0m     resp, got_stream \u001b[39m=\u001b[39m \u001b[39mawait\u001b[39;00m \u001b[39mself\u001b[39m\u001b[39m.\u001b[39m_interpret_async_response(result, stream)\n\u001b[0;32m    383\u001b[0m \u001b[39mexcept\u001b[39;00m \u001b[39mException\u001b[39;00m:\n",
      "File \u001b[1;32mc:\\ProgramData\\Python\\Lib\\site-packages\\openai\\api_requestor.py:728\u001b[0m, in \u001b[0;36mAPIRequestor._interpret_async_response\u001b[1;34m(self, result, stream)\u001b[0m\n\u001b[0;32m    726\u001b[0m     util\u001b[39m.\u001b[39mlog_warn(e, body\u001b[39m=\u001b[39mresult\u001b[39m.\u001b[39mcontent)\n\u001b[0;32m    727\u001b[0m \u001b[39mreturn\u001b[39;00m (\n\u001b[1;32m--> 728\u001b[0m     \u001b[39mself\u001b[39;49m\u001b[39m.\u001b[39;49m_interpret_response_line(\n\u001b[0;32m    729\u001b[0m         (\u001b[39mawait\u001b[39;49;00m result\u001b[39m.\u001b[39;49mread())\u001b[39m.\u001b[39;49mdecode(\u001b[39m\"\u001b[39;49m\u001b[39mutf-8\u001b[39;49m\u001b[39m\"\u001b[39;49m),\n\u001b[0;32m    730\u001b[0m         result\u001b[39m.\u001b[39;49mstatus,\n\u001b[0;32m    731\u001b[0m         result\u001b[39m.\u001b[39;49mheaders,\n\u001b[0;32m    732\u001b[0m         stream\u001b[39m=\u001b[39;49m\u001b[39mFalse\u001b[39;49;00m,\n\u001b[0;32m    733\u001b[0m     ),\n\u001b[0;32m    734\u001b[0m     \u001b[39mFalse\u001b[39;00m,\n\u001b[0;32m    735\u001b[0m )\n",
      "File \u001b[1;32mc:\\ProgramData\\Python\\Lib\\site-packages\\openai\\api_requestor.py:765\u001b[0m, in \u001b[0;36mAPIRequestor._interpret_response_line\u001b[1;34m(self, rbody, rcode, rheaders, stream)\u001b[0m\n\u001b[0;32m    764\u001b[0m \u001b[39mif\u001b[39;00m stream_error \u001b[39mor\u001b[39;00m \u001b[39mnot\u001b[39;00m \u001b[39m200\u001b[39m \u001b[39m<\u001b[39m\u001b[39m=\u001b[39m rcode \u001b[39m<\u001b[39m \u001b[39m300\u001b[39m:\n\u001b[1;32m--> 765\u001b[0m     \u001b[39mraise\u001b[39;00m \u001b[39mself\u001b[39m\u001b[39m.\u001b[39mhandle_error_response(\n\u001b[0;32m    766\u001b[0m         rbody, rcode, resp\u001b[39m.\u001b[39mdata, rheaders, stream_error\u001b[39m=\u001b[39mstream_error\n\u001b[0;32m    767\u001b[0m     )\n\u001b[0;32m    768\u001b[0m \u001b[39mreturn\u001b[39;00m resp\n",
      "\u001b[1;31mInvalidRequestError\u001b[0m: This model's maximum context length is 8191 tokens, however you requested 9631 tokens (9631 in your prompt; 0 for the completion). Please reduce your prompt; or completion length.",
      "\nDuring handling of the above exception, another exception occurred:\n",
      "\u001b[1;31mAIException\u001b[0m                               Traceback (most recent call last)",
      "\u001b[1;32mc:\\Users\\vigarudi\\Documents\\code\\Python\\All_togather\\Create-Feature.ipynb Cell 37\u001b[0m line \u001b[0;36m1\n\u001b[0;32m     <a href='vscode-notebook-cell:/c%3A/Users/vigarudi/Documents/code/Python/All_togather/Create-Feature.ipynb#X51sZmlsZQ%3D%3D?line=12'>13</a>\u001b[0m file_contents \u001b[39m=\u001b[39m file\u001b[39m.\u001b[39mread()\n\u001b[0;32m     <a href='vscode-notebook-cell:/c%3A/Users/vigarudi/Documents/code/Python/All_togather/Create-Feature.ipynb#X51sZmlsZQ%3D%3D?line=13'>14</a>\u001b[0m \u001b[39m# Now, you can work with the file_contents as a string\u001b[39;00m\n\u001b[1;32m---> <a href='vscode-notebook-cell:/c%3A/Users/vigarudi/Documents/code/Python/All_togather/Create-Feature.ipynb#X51sZmlsZQ%3D%3D?line=14'>15</a>\u001b[0m \u001b[39mawait\u001b[39;00m kernel\u001b[39m.\u001b[39mmemory\u001b[39m.\u001b[39msave_information_async(\n\u001b[0;32m     <a href='vscode-notebook-cell:/c%3A/Users/vigarudi/Documents/code/Python/All_togather/Create-Feature.ipynb#X51sZmlsZQ%3D%3D?line=15'>16</a>\u001b[0m     COLLECTION_NAME, \u001b[39mid\u001b[39m\u001b[39m=\u001b[39mfilename, text\u001b[39m=\u001b[39mfile_contents\n\u001b[0;32m     <a href='vscode-notebook-cell:/c%3A/Users/vigarudi/Documents/code/Python/All_togather/Create-Feature.ipynb#X51sZmlsZQ%3D%3D?line=16'>17</a>\u001b[0m     )\n",
      "File \u001b[1;32mc:\\ProgramData\\Python\\Lib\\site-packages\\semantic_kernel\\memory\\semantic_text_memory.py:60\u001b[0m, in \u001b[0;36mSemanticTextMemory.save_information_async\u001b[1;34m(self, collection, text, id, description, additional_metadata)\u001b[0m\n\u001b[0;32m     54\u001b[0m \u001b[39mif\u001b[39;00m \u001b[39mnot\u001b[39;00m \u001b[39mawait\u001b[39;00m \u001b[39mself\u001b[39m\u001b[39m.\u001b[39m_storage\u001b[39m.\u001b[39mdoes_collection_exist_async(\n\u001b[0;32m     55\u001b[0m     collection_name\u001b[39m=\u001b[39mcollection\n\u001b[0;32m     56\u001b[0m ):\n\u001b[0;32m     57\u001b[0m     \u001b[39mawait\u001b[39;00m \u001b[39mself\u001b[39m\u001b[39m.\u001b[39m_storage\u001b[39m.\u001b[39mcreate_collection_async(collection_name\u001b[39m=\u001b[39mcollection)\n\u001b[0;32m     59\u001b[0m embedding \u001b[39m=\u001b[39m (\n\u001b[1;32m---> 60\u001b[0m     \u001b[39mawait\u001b[39;00m \u001b[39mself\u001b[39m\u001b[39m.\u001b[39m_embeddings_generator\u001b[39m.\u001b[39mgenerate_embeddings_async([text])\n\u001b[0;32m     61\u001b[0m )[\u001b[39m0\u001b[39m]\n\u001b[0;32m     62\u001b[0m data \u001b[39m=\u001b[39m MemoryRecord\u001b[39m.\u001b[39mlocal_record(\n\u001b[0;32m     63\u001b[0m     \u001b[39mid\u001b[39m\u001b[39m=\u001b[39m\u001b[39mid\u001b[39m,\n\u001b[0;32m     64\u001b[0m     text\u001b[39m=\u001b[39mtext,\n\u001b[1;32m   (...)\u001b[0m\n\u001b[0;32m     67\u001b[0m     embedding\u001b[39m=\u001b[39membedding,\n\u001b[0;32m     68\u001b[0m )\n\u001b[0;32m     70\u001b[0m \u001b[39mawait\u001b[39;00m \u001b[39mself\u001b[39m\u001b[39m.\u001b[39m_storage\u001b[39m.\u001b[39mupsert_async(collection_name\u001b[39m=\u001b[39mcollection, record\u001b[39m=\u001b[39mdata)\n",
      "File \u001b[1;32mc:\\ProgramData\\Python\\Lib\\site-packages\\semantic_kernel\\connectors\\ai\\open_ai\\services\\open_ai_text_embedding.py:82\u001b[0m, in \u001b[0;36mOpenAITextEmbedding.generate_embeddings_async\u001b[1;34m(self, texts, batch_size)\u001b[0m\n\u001b[0;32m     80\u001b[0m     \u001b[39mreturn\u001b[39;00m array(raw_embeddings)\n\u001b[0;32m     81\u001b[0m \u001b[39mexcept\u001b[39;00m \u001b[39mException\u001b[39;00m \u001b[39mas\u001b[39;00m ex:\n\u001b[1;32m---> 82\u001b[0m     \u001b[39mraise\u001b[39;00m AIException(\n\u001b[0;32m     83\u001b[0m         AIException\u001b[39m.\u001b[39mErrorCodes\u001b[39m.\u001b[39mServiceError,\n\u001b[0;32m     84\u001b[0m         \u001b[39m\"\u001b[39m\u001b[39mOpenAI service failed to generate embeddings\u001b[39m\u001b[39m\"\u001b[39m,\n\u001b[0;32m     85\u001b[0m         ex,\n\u001b[0;32m     86\u001b[0m     )\n",
      "\u001b[1;31mAIException\u001b[0m: (<ErrorCodes.ServiceError: 6>, 'OpenAI service failed to generate embeddings', InvalidRequestError(message=\"This model's maximum context length is 8191 tokens, however you requested 9631 tokens (9631 in your prompt; 0 for the completion). Please reduce your prompt; or completion length.\", param=None, code=None, http_status=400, request_id=None))"
     ]
    }
   ],
   "source": [
    "folder_path = (r\"C:\\Users\\vigarudi\\Documents\\code\\Powershell\\CARML\\Main\")  # Replace with the path to your folder\n",
    "\n",
    "# List all files in the folder\n",
    "file_list = os.listdir(folder_path)\n",
    "\n",
    "# Iterate through each file and read its contents\n",
    "for filename in file_list:\n",
    "    file_path = os.path.join(folder_path, filename)\n",
    "    \n",
    "    # Check if it's a file (not a directory)\n",
    "    if os.path.isfile(file_path):\n",
    "        with open(file_path, 'r') as file:\n",
    "            file_contents = file.read()\n",
    "            # Now, you can work with the file_contents as a string\n",
    "            await kernel.memory.save_information_async(\n",
    "                COLLECTION_NAME, id=filename, text=file_contents\n",
    "                )\n",
    "            \n"
   ]
  },
  {
   "cell_type": "markdown",
   "id": "629a9011",
   "metadata": {},
   "source": [
    "searching the data in memory "
   ]
  },
  {
   "cell_type": "code",
   "execution_count": 6,
   "id": "998c36d2",
   "metadata": {},
   "outputs": [
    {
     "name": "stdout",
     "output_type": "stream",
     "text": [
      "Question: how to provision VM\n",
      "Answer: param prefix string\n",
      "param mainLocation string\n",
      "param environment string\n",
      "param identityResourceGroups array\n",
      "param identityVirtualNetworks array\n",
      "param identitySecurityGroups array\n",
      "param identityRouteTables array\n",
      "param enableADDSForest bool\n",
      "param isDeployAvailbilityZone bool\n",
      "param virtualMachines array\n",
      "param identityKeyVaults array\n",
      "param adminUser string\n",
      "param adminPassword string\n",
      "param _artifactsLocation string\n",
      "param _artifactsLocationSasToken string\n",
      "\n",
      "var createADDSForestModelUri = '${_artifactsLocation}CreateADDSForest.zip${_artifactsLocationSasToken}'\n",
      "var addDCtoDomainModuleUri = '${_artifactsLocation}AddDCtoDomain.zip${_artifactsLocationSasToken}'\n",
      "\n",
      "var ips = [for vm in virtualMachines: vm.identityVMPrivateIp]\n",
      "\n",
      "targetScope = 'subscription'\n",
      "//Identity resource Group deployment\n",
      "module IdentityResourceGroupModule 'modules/resources/resource-group/main.bicep' = [for resourceGroupName in identityResourceGroups: {\n",
      "  scope: subscription(resourceGroupName.subscriptionId)\n",
      "  name: '${prefix}rgDeploy${resourceGroupName.name}'\n",
      "  params: {\n",
      "    name: resourceGroupName.name\n",
      "    location: mainLocation\n",
      "  }\n",
      "}]\n",
      "output ipsArray array = ips\n",
      "\n",
      "// Identity NSG deployment\n",
      "module identityNSGModule 'modules/network/network-security-group/main.bicep' = [for nsg in identitySecurityGroups: {\n",
      "  scope: resourceGroup(nsg.subscriptionId, nsg.resourceGroupName)\n",
      "  name: '${prefix}identityNSGDeploy${nsg.name}'\n",
      "  params: {\n",
      "    tags: { environment: environment }\n",
      "    name: nsg.name\n",
      "    location: mainLocation\n",
      "    securityRules: []\n",
      "  }\n",
      "  dependsOn: [\n",
      "    IdentityResourceGroupModule\n",
      "  ]\n",
      "}]\n",
      "\n",
      "// key vault for Identity RG\n",
      "module identitykeyVaultModule 'modules/key-vault/vault/main.bicep' = [for keyvault in identityKeyVaults: {\n",
      "  scope: resourceGroup(keyvault.subscriptionId, keyvault.resourceGroupName)\n",
      "  name: '${prefix}identityKeyVaultDeploy${keyvault.name}'\n",
      "  params: {\n",
      "    tags: { environment: environment }\n",
      "    name: keyvault.name\n",
      "    vaultSku: keyvault.keyVaultSkuName\n",
      "    location: mainLocation\n",
      "  }\n",
      "  dependsOn: [\n",
      "    dscVMExtensionModule\n",
      "  ]\n",
      "}]\n",
      "\n",
      "// Identity virtual network deployment\n",
      "module IdentityVnetModule 'modules/network/virtual-network/main.bicep' = [for virtualNetwork in identityVirtualNetworks: {\n",
      "  scope: resourceGroup(virtualNetwork.subscriptionId, virtualNetwork.resourceGroupName)\n",
      "  name: '${prefix}IdentityVnetDeploy${virtualNetwork.name}'\n",
      "  params: {\n",
      "    tags: { environment: environment }\n",
      "    location: mainLocation\n",
      "    name: virtualNetwork.name\n",
      "    addressPrefixes: [ virtualNetwork.addressPrefixes ]\n",
      "    subnets: [for subnet in virtualNetwork.Subnets: contains(subnet, 'nsgName') && contains(subnet, 'routeTableName') ? {\n",
      "      name: subnet.name\n",
      "      addressPrefix: subnet.addressPrefix\n",
      "      networkSecurityGroupId: '/subscriptions/${virtualNetwork.subscriptionId}/resourceGroups/${virtualNetwork.resourceGroupName}/providers/Microsoft.Network/networkSecurityGroups/${subnet.nsgName}'\n",
      "      routeTableId: '/subscriptions/${virtualNetwork.subscriptionId}/resourceGroups/${virtualNetwork.resourceGroupName}/providers/Microsoft.Network/routeTables/${subnet.routeTableName}'\n",
      "    } : contains(subnet, 'nsgName') ? {\n",
      "      name: subnet.name\n",
      "      addressPrefix: subnet.addressPrefix\n",
      "      networkSecurityGroupId: '/subscriptions/${virtualNetwork.subscriptionId}/resourceGroups/${virtualNetwork.resourceGroupName}/providers/Microsoft.Network/networkSecurityGroups/${subnet.nsgName}'\n",
      "\n",
      "    } : contains(subnet, 'routeTableId') ? {\n",
      "      addressPrefix: subnet.addressPrefix\n",
      "      name: subnet.name\n",
      "      routeTableId: '/subscriptions/${virtualNetwork.subscriptionId}/resourceGroups/${virtualNetwork.resourceGroupName}/providers/Microsoft.Network/routeTables/${subnet.routeTableName}'\n",
      "    } : {\n",
      "      name: subnet.name\n",
      "      addressPrefix: subnet.addressPrefix\n",
      "    }]\n",
      "    dnsServers: []\n",
      "  }\n",
      "  dependsOn: [\n",
      "    IdentityResourceGroupModule\n",
      "  ]\n",
      "}]\n",
      "\n",
      "//routeTable deployment\n",
      "module routeTableModule 'modules/network/route-table/main.bicep' = [for routeTable in identityRouteTables: {\n",
      "  scope: resourceGroup(routeTable.subscriptionId, routeTable.resourceGroupName)\n",
      "  name: '${prefix}routeTableDeploy${routeTable.name}'\n",
      "  params: {\n",
      "    name: routeTable.name\n",
      "    location: mainLocation\n",
      "    routes: [for route in routeTable.routes: {\n",
      "      name: route.name\n",
      "      properties: {\n",
      "        addressPrefix: route.addressPrefix\n",
      "        nextHopIpAddress: route.NextHopIpAddress\n",
      "        nextHopType: route.nextHopType\n",
      "      }\n",
      "    }\n",
      "    ]\n",
      "    disableBgpRoutePropagation: true\n",
      "  }\n",
      "  dependsOn: [\n",
      "    IdentityResourceGroupModule\n",
      "  ]\n",
      "}]\n",
      "\n",
      "//Identity VM deploy\n",
      "module availabilityZoneVMs 'modules/compute/virtual-machine/main.bicep' = [for virtualMachine in virtualMachines: if (isDeployAvailbilityZone) {\n",
      "  scope: resourceGroup(virtualMachine.subscriptionId, virtualMachine.resourceGroupName)\n",
      "  name: '${prefix}${virtualMachine.identityVMName}Deploy'\n",
      "  params: {\n",
      "    tags: { environment: environment }\n",
      "    location: mainLocation\n",
      "    adminPassword: adminPassword\n",
      "    adminUsername: adminUser\n",
      "    computerName: virtualMachine.identityVMComputerName\n",
      "    name: virtualMachine.identityVMName\n",
      "    osType: virtualMachine.osType\n",
      "    vmSize: virtualMachine.vmSize\n",
      "    imageReference: {\n",
      "      publisher: virtualMachine.imagePublisher\n",
      "      offer: virtualMachine.imageOffer\n",
      "      sku: virtualMachine.imageSku\n",
      "      version: virtualMachine.imageVersion\n",
      "    }\n",
      "    osDisk: {\n",
      "      createOption: 'FromImage'\n",
      "      diskSizeGB: 127\n",
      "      managedDisk: {\n",
      "        storageAccountType: virtualMachine.vmDiskStorageType\n",
      "      }\n",
      "    }\n",
      "    nicConfigurations: [\n",
      "      {\n",
      "        nicSuffix: virtualMachine.identityVMNicSuffix\n",
      "        networkSecurityGroupResourceId: '/subscriptions/${virtualMachine.subscriptionId}/resourceGroups/${virtualMachine.resourceGroupName}/providers/Microsoft.Network/networkSecurityGroups/${virtualMachine.nsgName}'\n",
      "        dnsServers: virtualMachine.extensionName == 'AddDCtoDomain' ? ips : []\n",
      "        ipConfigurations: [\n",
      "          {\n",
      "            name: 'ipconfig1'\n",
      "            privateIPAllocationMethod: 'Static'\n",
      "            privateIPAddress: virtualMachine.identityVMPrivateIp\n",
      "            subnetResourceId: '/subscriptions/${virtualMachine.subscriptionId}/resourceGroups/${virtualMachine.resourceGroupName}/providers/Microsoft.Network/virtualNetworks/${virtualMachine.vNetName}/subnets/${virtualMachine.subnetName}'\n",
      "          }\n",
      "        ]\n",
      "      }\n",
      "    ]\n",
      "    availabilityZone: virtualMachine.identityVmAvailabilityZone\n",
      "    encryptionAtHost: false\n",
      "  }\n",
      "  dependsOn: [\n",
      "    IdentityResourceGroupModule\n",
      "  ]\n",
      "}]\n",
      "\n",
      "// ADDS forest extension\n",
      "module dscVMExtensionModule 'modules/compute/virtual-machine/extension/main.bicep' = [for virtualMachine in virtualMachines: if (enableADDSForest && contains(virtualMachine.extensionName, 'CreateADDSForest')) {\n",
      "  scope: resourceGroup(virtualMachine.subscriptionId, virtualMachine.resourceGroupName)\n",
      "  name: '${prefix}dscadvm01Deploy${virtualMachine.identityVMName}'\n",
      "  params: {\n",
      "    name: 'CreateADDSForest'\n",
      "    publisher: 'Microsoft.Powershell'\n",
      "    type: 'DSC'\n",
      "    typeHandlerVersion: '2.19'\n",
      "    autoUpgradeMinorVersion: true\n",
      "    enableAutomaticUpgrade: false\n",
      "    virtualMachineName: virtualMachine.identityVMName\n",
      "    location: mainLocation\n",
      "    settings: {\n",
      "      ModulesUrl: createADDSForestModelUri\n",
      "      ConfigurationFunction: 'CreateADDSForest.ps1\\\\CreateADDSForest'\n",
      "      Properties: {\n",
      "        DomainName: virtualMachine.domainName\n",
      "        AdminCreds: {\n",
      "          UserName: adminUser\n",
      "          Password: 'PrivateSettingsRef:AdminPassword'\n",
      "        }\n",
      "      }\n",
      "    }\n",
      "    protectedSettings: {\n",
      "      Items: {\n",
      "        AdminPassword: adminPassword\n",
      "      }\n",
      "    }\n",
      "  }\n",
      "  dependsOn: [\n",
      "    IdentityVnetModule\n",
      "    availabilityZoneVMs\n",
      "  ]\n",
      "}]\n",
      "\n",
      "// ADD DC to Domain extension\n",
      "module dcVMExtensionModule 'modules/compute/virtual-machine/extension/main.bicep' = [for virtualMachine in virtualMachines: if (enableADDSForest && contains(virtualMachine.extensionName, 'AddDCtoDomain')) {\n",
      "  scope: resourceGroup(virtualMachine.subscriptionId, virtualMachine.resourceGroupName)\n",
      "  name: '${prefix}dscadvm02Deploy${virtualMachine.identityVMName}'\n",
      "  params: {\n",
      "    name: 'AddDCtoDomain'\n",
      "    publisher: 'Microsoft.Powershell'\n",
      "    type: 'DSC'\n",
      "    typeHandlerVersion: '2.19'\n",
      "    autoUpgradeMinorVersion: true\n",
      "    enableAutomaticUpgrade: false\n",
      "    virtualMachineName: virtualMachine.identityVMName\n",
      "    location: mainLocation\n",
      "    settings: {\n",
      "      ModulesUrl: addDCtoDomainModuleUri\n",
      "      ConfigurationFunction: 'AddDCtoDomain.ps1\\\\AddDCtoDomain'\n",
      "      Properties: {\n",
      "        DomainName: virtualMachine.domainName\n",
      "        AdminCreds: {\n",
      "          UserName: adminUser\n",
      "          Password: 'PrivateSettingsRef:AdminPassword'\n",
      "        }\n",
      "      }\n",
      "    }\n",
      "    protectedSettings: {\n",
      "      Items: {\n",
      "        AdminPassword: adminPassword\n",
      "      }\n",
      "    }\n",
      "  }\n",
      "  dependsOn: [\n",
      "    dscVMExtensionModule\n",
      "    identitykeyVaultModule\n",
      "  ]\n",
      "}]\n",
      "\n",
      "//antimalware extension for advm01\n",
      "module antimalwareVMExtensionModule 'modules/compute/virtual-machine/extension/main.bicep' = [for virtualMachine in virtualMachines: if (enableADDSForest) {\n",
      "  scope: resourceGroup(virtualMachine.subscriptionId, virtualMachine.resourceGroupName)\n",
      "  name: '${prefix}antimalwareADDeploy${virtualMachine.identityVMName}'\n",
      "  params: {\n",
      "    tags: { environment: environment }\n",
      "    virtualMachineName: enableADDSForest ? virtualMachine.identityVMName : ''\n",
      "    name: 'IaaSAntimalware'\n",
      "    publisher: 'Microsoft.Azure.Security'\n",
      "    type: 'IaaSAntimalware'\n",
      "    autoUpgradeMinorVersion: true\n",
      "    enableAutomaticUpgrade: false\n",
      "    typeHandlerVersion: '1.3'\n",
      "    location: mainLocation\n",
      "    settings: {\n",
      "      AntimalwareEnabled: true\n",
      "      RealtimeProtectionEnabled: 'true'\n",
      "      ScheduledScanSettings: {\n",
      "        isEnabled: 'true'\n",
      "        day: '7'\n",
      "        time: '120'\n",
      "        scanType: 'Quick'\n",
      "      }\n",
      "    }\n",
      "  }\n",
      "  dependsOn: enableADDSForest ? [ dcVMExtensionModule ] : []\n",
      "}]\n",
      "\n",
      "//diskEncryption extension for advm01\n",
      "module diskEncryptionVMExtensionModule 'modules/compute/virtual-machine/extension/main.bicep' = [for virtualMachine in virtualMachines: if (enableADDSForest) {\n",
      "  scope: resourceGroup(virtualMachine.subscriptionId, virtualMachine.resourceGroupName)\n",
      "  name: '${prefix}diskEncryptioneadvmDeploy${virtualMachine.identityVMName}'\n",
      "  params: {\n",
      "    tags: { environment: environment }\n",
      "    virtualMachineName: isDeployAvailbilityZone ? virtualMachine.identityVMName : ''\n",
      "    name: 'diskEncryption'\n",
      "    publisher: 'Microsoft.Azure.Security'\n",
      "    type: 'AzureDiskEncryption'\n",
      "    autoUpgradeMinorVersion: true\n",
      "    enableAutomaticUpgrade: false\n",
      "    typeHandlerVersion: '2.2'\n",
      "    location: mainLocation\n",
      "    settings: {\n",
      "      EncryptionOperation: 'EnableEncryption'\n",
      "      keyEncryptionAlgorithm: 'RSA-OAEP'\n",
      "      KeyVaultURL: enableADDSForest ? identitykeyVaultModule[0].outputs.uri : ''\n",
      "      KeyVaultResourceId: enableADDSForest ? identitykeyVaultModule[0].outputs.resourceId : ''\n",
      "      VolumeType: 'All'\n",
      "    }\n",
      "  }\n",
      "  dependsOn: enableADDSForest ? [ antimalwareVMExtensionModule ] : []\n",
      "}]\n",
      "\n",
      "module addRouteTableToSubentModule 'modules/network/virtual-network/subnet/main.bicep' = [for addRouteToSubnet in identityRouteTables: if (contains(addRouteToSubnet, 'routeTableSubnet')) {\n",
      "  scope: resourceGroup(addRouteToSubnet.subscriptionId, addRouteToSubnet.resourceGroupName)\n",
      "  name: '${prefix}addRouteTableToSubent${addRouteToSubnet.routeTableSubnet}'\n",
      "  params: {\n",
      "    routeTableId: '/subscriptions/${addRouteToSubnet.subscriptionId}/resourceGroups/${addRouteToSubnet.resourceGroupName}/providers/Microsoft.Network/routeTables/${addRouteToSubnet.name}'\n",
      "    name: addRouteToSubnet.routeTableSubnet\n",
      "    addressPrefix: addRouteToSubnet.routeTableSubnetPrefix\n",
      "    virtualNetworkName: addRouteToSubnet.virtualNetworkName\n",
      "  }\n",
      "  dependsOn: enableADDSForest ? [ dcVMExtensionModule, antimalwareVMExtensionModule, diskEncryptionVMExtensionModule ] : []\n",
      "}]\n",
      "output dnsServersIpArray array = [for vmIp in virtualMachines: '${vmIp.identityVMPrivateIp}']\n",
      "\n",
      "\n"
     ]
    }
   ],
   "source": [
    "#serach in memory\n",
    "questions = [\n",
    "        \"how to provision VM\",\n",
    "    ]\n",
    "\n",
    "for question in questions:\n",
    "    print(f\"Question: {question}\")\n",
    "    result = await kernel.memory.search_async(COLLECTION_NAME, question)\n",
    "    print(f\"Answer: {result[0].text}\\n\")"
   ]
  },
  {
   "cell_type": "code",
   "execution_count": null,
   "id": "483e71f8",
   "metadata": {},
   "outputs": [],
   "source": [
    "\n",
    "await connector.close_async()\n"
   ]
  },
  {
   "cell_type": "markdown",
   "id": "a2c251f6",
   "metadata": {},
   "source": [
    "embeding the search outcome with semantic function"
   ]
  },
  {
   "cell_type": "code",
   "execution_count": 35,
   "id": "972f2418",
   "metadata": {},
   "outputs": [
    {
     "name": "stdout",
     "output_type": "stream",
     "text": [
      "  \n",
      "    - How to provision a VM?  \n",
      "    - How to provision a VM?  \n",
      "    - How to provision a VM?  \n",
      " \n",
      "### ServiceNow\n",
      "1. Create an application that will enable users to raise a ticket for a certain issue.  \n",
      "2. Create an application that will enable users to book a meeting room. \n",
      "3. Create an application that will enable users to book a car park. \n",
      "\n",
      "### Azure Devops\n",
      "1. Add a test task in your pipeline. \n",
      "2. Add a new environment in your pipeline. \n",
      "3. Add a new stage in your pipeline.  \n",
      "4. Add a manual approval task in your pipeline. \n",
      "5. Add a new agent to the agent pool. \n",
      "\n",
      "### Azure\n",
      "1. Create an azure function. \n",
      "2. Create a storage account. \n",
      "3. Create an availability set. \n",
      "4. Create a virtual machine. \n",
      "5. Create a virtual network. \n",
      "\n",
      "### Other\n",
      "1. Provide an example of how you’ve worked collaboratively with developers in a previous role. \n",
      "2. Provide an example of how you’ve worked collaboratively with other departments in a previous role. \n",
      "3. Give an example of when you’ve identified an inefficiency in your workflow and what you did to improve the situation. \n",
      "4. When you’re working on a project with a deadline, how do you manage your time effectively? \n",
      "5. Describe how you stay up-to-date with new technologies. \n",
      "\n",
      "---\n",
      "## **Part 2**\n",
      "\n",
      "The next part of the technical test involves writing a script to automate a task. You can choose the task you wish to automate, but it should not take more than an hour to complete.\n",
      "\n",
      "Please provide a link to a public repository on Github with your script, along with any instructions on how to run the script. \n",
      "\n",
      "---\n",
      "## **Part 3**\n",
      "\n",
      "The final part of the technical test involves creating a short demo video of the script you wrote in Part 2. Please provide a link to the video you created. The video should be no longer than 5 minutes. In the video, you should show how your script works, and explain how it can be used. \n",
      "\n",
      "You may use screen-capture software to create the video. \n",
      "\n",
      "Please upload your video to a public video-sharing platform, such as Vimeo or Youtube, and provide a link in your submission. \n",
      "\n",
      "---\n",
      "## **Submission Guidelines**\n",
      "\n",
      "Please provide your answers and links to your repository and video in a text file or markdown file named `README.md`.\n",
      "\n",
      "You should submit your solution via email in the form of a `.zip` file. The `.zip` file should be named `firstname_lastname.zip`. Your solution should contain:\n",
      "\n",
      "1. README.md file with your answers to Part 1 and links to your script and video.\n",
      "2. A link to your Github repository for the script you wrote in Part 2.\n",
      "3. A link to the video you created for Part 3. \n",
      "\n",
      "Please note: Submitting a solution that does not meet the criteria of the task description or submission guidelines may result in disqualification.\n",
      "\n",
      "---\n",
      "## **Ressources**\n",
      "\n",
      "To complete the tasks, you may find the following resources useful:\n",
      "\n",
      "- [Azure](https://docs.microsoft.com/en-us/azure/)\n",
      "- [ServiceNow Developer Portal](https://developer.servicenow.com/)\n",
      "- [Azure DevOps Documentation](https://docs.microsoft.com/en-us/azure/devops/?view=azure-devops)\n",
      "- [Bicep Documentation](https://docs.microsoft.com/en-us/azure/azure-resource-manager/bicep/)\n",
      "- [Powershell Documentation](https://docs.microsoft.com/en-us/powershell/)\n",
      "- [Python Documentation](https://docs.python.org/3/)\n",
      "- [Github Guides](https://guides.github.com/)\n",
      "- [Vimeo Create](https://vimeo.com/create)\n",
      "- [Camtasia](https://www.techsmith.com/video-editor.html)\n",
      "\n",
      "Good luck!\n",
      "\n"
     ]
    }
   ],
   "source": [
    "\n",
    "sk_prompt = \"\"\"\n",
    "    Genrate bicep code to provision {{$user_input}} for example\n",
    "    Example:\n",
    "    - {{$fact1}} {{recall $fact1}} \n",
    "    - {{$fact1}}\n",
    "    \"\"\".strip()\n",
    "\n",
    "\n",
    "\n",
    "context = kernel.create_new_context()\n",
    "context[\"fact1\"] = \"How to provision a VM?\"\n",
    "context[sk.core_skills.TextMemorySkill.COLLECTION_PARAM] = COLLECTION_NAME\n",
    "context[sk.core_skills.TextMemorySkill.RELEVANCE_PARAM] = 0.8\n",
    "context[\"user_input\"] = \"How to provision a VM?\"\n",
    "chat_func = kernel.create_semantic_function(sk_prompt, max_tokens=4000, temperature=0.8)\n",
    "answer = await kernel.run_async(chat_func, input_vars=context.variables)\n",
    "print(answer)"
   ]
  },
  {
   "cell_type": "markdown",
   "id": "2e6ec1e7",
   "metadata": {},
   "source": [
    "Using Chat completion with our own data set"
   ]
  },
  {
   "cell_type": "code",
   "execution_count": 7,
   "id": "e9f9433e",
   "metadata": {},
   "outputs": [
    {
     "name": "stdout",
     "output_type": "stream",
     "text": [
      "{\"citations\": [{\"content\": \"param hubVnetPeerings array = []\\n\\ntargetScope = 'managementGroup'\\n\\n// vNet peerings between hub networks\\n\\n\\n//vnet peering source to remote\\nmodule hubVnetPeeringModule 'modules/network/virtual-network/virtual-network-peering/main.bicep' = [for hubVnetPeering in hubVnetPeerings: {\\n  scope: resourceGroup(hubVnetPeering.sourceSubscriptionId, hubVnetPeering.sourceResourceGroup)\\n  name: '${hubVnetPeering.sourceVnetName}-to-${hubVnetPeering.remoteVnetName}'\\n  params: {\\n    remoteVirtualNetworkId: resourceId(hubVnetPeering.remoteSubscriptionId, hubVnetPeering.remoteResourceGroup, 'Microsoft.Network/virtualNetworks', concat(hubVnetPeering.remoteVnetName))\\n    localVnetName: hubVnetPeering.sourceVnetName\\n    allowVirtualNetworkAccess: hubVnetPeering.allowVirtualNetworkAccess\\n    allowForwardedTraffic: hubVnetPeering.allowForwardedTraffic\\n    allowGatewayTransit: hubVnetPeering.allowGatewayTransit\\n    useRemoteGateways: hubVnetPeering.useRemoteGateways\\n  }\\n} ]\\n\\n//vnet peering remote to source\\nmodule hubVnetPeeringRemoteModule 'modules/network/virtual-network/virtual-network-peering/main.bicep' = [for hubVnetPeering in hubVnetPeerings: {\\n  scope: resourceGroup(hubVnetPeering.remoteSubscriptionId, hubVnetPeering.remoteResourceGroup)\\n  name: '${hubVnetPeering.remoteVnetName}-to-${hubVnetPeering.sourceVnetName}'\\n  params: {\\n    remoteVirtualNetworkId: resourceId(hubVnetPeering.sourceSubscriptionId, hubVnetPeering.sourceResourceGroup, 'Microsoft.Network/virtualNetworks', concat(hubVnetPeering.sourceVnetName))\\n    localVnetName: hubVnetPeering.remoteVnetName\\n    allowVirtualNetworkAccess: hubVnetPeering.allowVirtualNetworkAccess\\n    allowForwardedTraffic: hubVnetPeering.allowForwardedTraffic\\n    allowGatewayTransit: hubVnetPeering.allowGatewayTransit\\n    useRemoteGateways: hubVnetPeering.useRemoteGateways\\n  }\\n} ]\\n\", \"id\": null, \"title\": null, \"filepath\": null, \"url\": null, \"metadata\": {\"chunking\": \"orignal document size=599. Scores=2.5005968 and None.Org Highlight count=8.\"}, \"chunk_id\": \"0\"}, {\"content\": \"targetScope = 'subscription'\\n\\nparam prefix string\\nparam mainLocation string\\nparam environment string\\nparam workspaceCustomerId string\\nparam workspaceKey string\\nparam connResourceGroups array = []\\nparam connVirtualNetworks array = []\\nparam connNetworkSecurityGroups array = []\\nparam connKeyVaults array = []\\nparam connJumpBoxVms array = []\\nparam connFireWalls array = []\\nparam connRouteTables array = []\\nparam workspaceResourceId string = ''\\n//Express route subnet variables\\n\\nparam isDeployJumpBox bool = true\\nparam adminUser string\\nparam adminPassword string\\nparam storageAccountResourceId string\\n\\n//Firewall variables\\nparam isDeployFirewall bool = true\\n\\n// CONN resource Groups deployment\\nmodule connResourceGroupModule 'modules/resources/resource-group/main.bicep' = [for resourceGroup in connResourceGroups: {\\n  scope: subscription(resourceGroup.subscriptionId)\\n  name: '${prefix}rgDeploy${resourceGroup.name}'\\n  params: {\\n    name: resourceGroup.name\\n    location: mainLocation\\n  }\\n}]\\n\\n//connectivity NSG deployment\\nmodule connectivityNSGModule 'modules/network/network-security-group/main.bicep' = [for nsg in connNetworkSecurityGroups: {\\n  scope: resourceGroup(nsg.subscriptionId, nsg.resourceGroupName)\\n  name: '${prefix}mgmtNSGDeploy${nsg.name}'\\n  params: {\\n    tags: { environment: environment }\\n    name: nsg.name\\n    location: mainLocation\\n    securityRules: nsg.securityRules\\n  }\\n  dependsOn: [\\n    connResourceGroupModule\\n  ]\\n}]\\n\\n// key vault for connectivity RG\\nmodule keyVaultModule 'modules/key-vault/vault/main.bicep' = [for keyVault in connKeyVaults: if (isDeployJumpBox) {\\n  scope: resourceGroup(keyVault.subscriptionId, keyVault.resourceGroupName)\\n  name: '${prefix}mgmtKeyVaultDeploy${keyVault.name}'\\n  params: {\\n    tags: { environment: environment }\\n    name: keyVault.name\\n    vaultSku: keyVault.sku\\n    location: mainLocation\\n  }\\n  dependsOn: [\\n    connResourceGroupModule\\n  ]\\n}]\\n\\n// CONN virtual networks deployment\\n@batchSize(1)\\nmodule connVnetModule 'modules/network/virtual-network/main.bicep' = [for (virtualNetwork, index) in connVirtualNetworks: {\\n  scope: resourceGroup(virtualNetwork.subscriptionId, virtualNetwork.resourceGroupName)\\n  name: '${prefix}connVnetDeploy${virtualNetwork.VirtualNetworkName}'\\n  params: {\\n    tags: { environment: environment }\\n    location: mainLocation\\n    name: virtualNetwork.VirtualNetworkName\\n    addressPrefixes: [ virtualNetwork.addressPrefixes ]\\n    subnets: [for subnet in virtualNetwork.Subnets: contains(subnet, 'nsgName') && contains(subnet, 'routeTableName') ? {\\n      name: subnet.name\\n      addressPrefix: subnet.addressPrefix\\n      networkSecurityGroupId: '/subscriptions/${virtualNetwork.subscriptionId}/resourceGroups/${virtualNetwork.resourceGroupName}/providers/Microsoft.Network/networkSecurityGroups/${subnet.nsgName}'\\n      routeTableId: '/subscriptions/${virtualNetwork.subscriptionId}/resourceGroups/${virtualNetwork.resourceGroupName}/providers/Microsoft.Network/routeTables/${subnet.routeTableName}'\\n    } : contains(subnet, 'nsgName') ? {\\n      name: subnet.name\\n      addressPrefix: subnet.addressPrefix\\n      networkSecurityGroupId: '/subscriptions/${virtualNetwork.subscriptionId}/resourceGroups/${virtualNetwork.resourceGroupName}/providers/Microsoft.Network/networkSecurityGroups/${subnet.nsgName}'\\n\\n    } : contains(subnet, 'routeTableId') ? {\\n      addressPrefix: subnet.addressPrefix\\n      name: subnet.name\\n      routeTableId: '/subscriptions/${virtualNetwork.subscriptionId}/resourceGroups/${virtualNetwork.resourceGroupName}/providers/Microsoft.Network/routeTables/${subnet.routeTableName}'\\n    } : {\\n      name: subnet.name\\n      addressPrefix: subnet.addressPrefix\\n    }]\\n    dnsServers: []\\n  }\\n  dependsOn: [\\n    connResourceGroupModule\\n    routeTableModule\\n    connectivityNSGModule\\n  ]\\n}]\\n\\n// bastion IP\\nmodule bastionIPModule 'modules/network/public-ip-address/main.bicep' = [for bastionIp in connVirtualNetworks: if (isDeployJumpBox) {\\n  scope: resourceGroup(bastionIp.subscriptionId, bastionIp.resourceGroupName)\\n  name: '${prefix}bastionIPDeploy${bastionIp.bastionIPName}'\\n  params: {\\n    name: bastionIp.bastionIPName\\n    location: mainLocation\\n    tags: { environment: environment }\\n    publicIPAllocationMethod: bastionIp.publicIPAllocationMethod\\n    skuName: bastionIp.skuName\\n  }\\n  dependsOn: [\\n    connResourceGroupModule\\n  ]\\n}]\\n\\n//bastion hosts\\nmodule bastionHostModule 'modules/network/bastion-host/main.bicep' = [for bastionHost in connVirtualNetworks: if (isDeployJumpBox) {\\n  scope: resourceGroup(bastionHost.subscriptionId, bastionHost.resourceGroupName)\\n  name: '${prefix}bastionHostDeploy${bastionHost.bastionName}'\\n  params: {\\n    tags: { environment: environment }\\n    location: mainLocation\\n    name: bastionHost.bastionName\\n    vNetId: '/subscriptions/${bastionHost.subscriptionId}/resourceGroups/${bastionHost.resourceGroupName}/providers/Microsoft.Network/virtualNetworks/${bastionHost.VirtualNetworkName}'\\n    bastionSubnetPublicIpResourceId: isDeployJumpBox ? '/subscriptions/${bastionHost.subscriptionId}/resourceGroups/${bastionHost.resourceGroupName}/providers/Microsoft.Network/publicIPAddresses/${bastionHost.bastionIPName}' : ''\\n  }\\n  dependsOn: [\\n    connResourceGroupModule\\n    connVnetModule\\n    bastionIPModule\\n  ]\\n}]\\n\\n//jumpbox vm\\nmodule jumpboxVmModule 'modules/compute/virtual-machine/main.bicep' = [for jumpBoxVm in connJumpBoxVms: if (isDeployJumpBox) {\\n  scope: resourceGroup(jumpBoxVm.subscriptionId, jumpBoxVm.resourceGroupName)\\n  name: '${prefix}jumpboxVmDeploy${jumpBoxVm.vmName}'\\n  params: {\\n    tags: { environment: environment }\\n    location: mainLocation\\n    adminPassword: adminPassword\\n    adminUsername: adminUser\\n    computerName: jumpBoxVm.computerName\\n    name: jumpBoxVm.vmName\\n    osType: jumpBoxVm.osType\\n    vmSize: jumpBoxVm.vmSize\\n    imageReference: {\\n      publisher: jumpBoxVm.imagePublisher\\n      offer: jumpBoxVm.imageOffer\\n      sku: jumpBoxVm.imageSku\\n      version: jumpBoxVm.imageVersion\\n    }\\n    osDisk: {\\n      createOption: jumpBoxVm.createOption\\n      diskSizeGB: jumpBoxVm.diskSizeGB\\n      managedDisk: {\\n        storageAccountType: jumpBoxVm.vmDiskStorageType\\n      }\\n    }\\n    nicConfigurations: [\\n      {\\n        nicSuffix: jumpBoxVm.vmNicSuffix\\n        networkSecurityGroupResourceId: '/subscriptions/${jumpBoxVm.subscriptionId}/resourceGroups/${jumpBoxVm.resourceGroupName}/providers/Microsoft.Network/networkSecurityGroups/${jumpBoxVm.nsgName}'\\n        dnsServers: []\\n        ipConfigurations: [\\n          {\\n            name: jumpBoxVm.ipConfigName\\n            privateIPAllocationMethod: jumpBoxVm.privateIPAllocationMethod\\n            privateIPAddress: jumpBoxVm.jumpBoxPrivateIP\\n            subnetResourceId: '/subscriptions/${jumpBoxVm.subscriptionId}/resourceGroups/${jumpBoxVm.resourceGroupName}/providers/Microsoft.Network/virtualNetworks/${jumpBoxVm.vNetName}/subnets/${jumpBoxVm.subnetName}'\\n          }\\n        ]\\n      }\\n    ]\\n    availabilityZone: jumpBoxVm.availabilityZone\\n    encryptionAtHost: jumpBoxVm.encryptionAtHost\\n  }\\n  dependsOn: [\\n    connResourceGroupModule\\n    connVnetModule\\n  ]\\n}]\\n\\n//antimalware extension for vm\\nmodule antimalwareVMExtensionModule 'modules/compute/virtual-machine/extension/main.bicep' = [for extention in connJumpBoxVms: if (isDeployJumpBox) {\\n  scope: resourceGroup(extention.subscriptionId, extention.resourceGroupName)\\n  name: '${prefix}antimalwareDeploy${extention.vmName}'\\n  params: {\\n    tags: { environment: environment }\\n    virtualMachineName: isDeployJumpBox ? extention.vmName : ''\\n    name: 'IaaSAntimalware'\\n    publisher: 'Microsoft.Azure.Security'\\n    type: 'IaaSAntimalware'\\n    autoUpgradeMinorVersion: true\\n    enableAutomaticUpgrade: false\\n    typeHandlerVersion: '1.3'\\n    location: mainLocation\\n    settings: {\\n      AntimalwareEnabled: true\\n      RealtimeProtectionEnabled: 'true'\\n      ScheduledScanSettings: {\\n        isEnabled: 'true'\\n        day: '7'\\n        time: '120'\\n        scanType: 'Quick'\\n      }\\n    }\\n  }\\n  dependsOn: [\\n    jumpboxVmModule\\n  ]\\n}]\\n\\n//diagnosticSetting extension for vm\\nmodule diagnosticSettingVMExtensionModule 'modules/compute/virtual-machine/extension/main.bicep' = [for extention in connJumpBoxVms: if (isDeployJumpBox) {\\n  scope: resourceGroup(extention.subscriptionId, extention.resourceGroupName)\\n  name: '${prefix}diagnosticSettingDeploy${extention.vmName}'\\n  params: {\\n    name: 'Microsoft.Insights.VMDiagnosticsSettings'\\n    virtualMachineName: isDeployJumpBox ? extention.vmName : ''\\n    location: mainLocation\\n    autoUpgradeMinorVersion: true\\n    enableAutomaticUpgrade: false\\n    publisher: 'Microsoft.Azure.Diagnostics'\\n    type: 'IaaSDiagnostics'\\n    typeHandlerVersion: '1.5'\\n    protectedSettings: {\\n      storageAccountName: last(split(storageAccountResourceId, '/'))\\n      storageAccountKey: isDeployJumpBox ? first(listKeys(storageAccountResourceId, '2022-05-01').keys).value : ''\\n      storageAccountEndPoint: 'https://core.windows.net'\\n    }\\n    settings: {\\n      StorageAccount: last(split(storageAccountResourceId, '/'))\\n      WadCfg: {\\n        DiagnosticMonitorConfiguration: {\\n          Metrics: {\\n            resourceId: isDeployJumpBox ? '/${extention.subscriptionId}/resourceGroups/${extention.resourceGroupName}/providers/Microsoft.Compute/virtualMachines/${extention.vmName}' : ''\\n          }\\n        }\\n      }\\n    }\\n  }\\n  dependsOn: [\\n    jumpboxVmModule\\n  ]\\n}]\\n\\n//diskEncryption extension for vm\\nmodule diskEncryptionVMExtensionModule 'modules/compute/virtual-machine/extension/main.bicep' = [for extention in connJumpBoxVms: if (isDeployJumpBox) {\\n  scope: resourceGroup(extention.subscriptionId, extention.resourceGroupName)\\n  name: '${prefix}diskEncryptioneDeploy${extention.vmName}'\\n  params: {\\n    tags: { environment: environment }\\n    virtualMachineName: isDeployJumpBox ? extention.vmName : ''\\n    name: 'diskEncryption'\\n    publisher: 'Microsoft.Azure.Security'\\n    type: 'AzureDiskEncryption'\\n    autoUpgradeMinorVersion: true\\n    enableAutomaticUpgrade: false\\n    typeHandlerVersion: '2.2'\\n    location: mainLocation\\n    settings: {\\n      EncryptionOperation: 'EnableEncryption'\\n      keyEncryptionAlgorithm: 'RSA-OAEP'\\n      KeyVaultURL: isDeployJumpBox ? 'https://${extention.diskEncryptionKeyVaultName}.vault.azure.net/' : ''\\n      KeyVaultResourceId: isDeployJumpBox ? '/subscriptions/${extention.subscriptionId}/resourceGroups/${extention.resourceGroupName}/providers/Microsoft.KeyVault/vaults/${extention.diskEncryptionKeyVaultName}' : ''\\n      VolumeType: 'All'\\n    }\\n  }\\n  dependsOn: [\\n    jumpboxVmModule\\n    keyVaultModule\\n  ]\\n}]\\n\\n//MonitorAgent extension for vm\\nmodule monitorAgentVMExtensionModule 'modules/compute/virtual-machine/extension/main.bicep' = [for extention in connJumpBoxVms: if (isDeployJumpBox) {\\n  scope: resourceGroup(extention.subscriptionId, extention.resourceGroupName)\\n  name: '${prefix}monitorAgentDeploy${extention.vmName}'\\n  params: {\\n    tags: { environment: environment }\\n    name: 'Microsoft.Insights.LogAnalyticsAgent'\\n    autoUpgradeMinorVersion: true\\n    enableAutomaticUpgrade: false\\n    virtualMachineName: isDeployJumpBox ? extention.vmName : ''\\n    location: mainLocation\\n    publisher: 'Microsoft.EnterpriseCloud.Monitoring'\\n    type: 'MicrosoftMonitoringAgent'\\n    typeHandlerVersion: '1.0'\\n    settings: {\\n      workspaceId: workspaceCustomerId\\n    }\\n    protectedSettings: {\\n      workspaceKey: workspaceKey\\n    }\\n  }\\n  dependsOn: [\\n    jumpboxVmModule\\n  ]\\n}]\\n\\n//Firewall modules\\n//firewall IP deployment\\nmodule firewallIPModule 'modules/network/public-ip-address/main.bicep' = [for firewallIp in connFireWalls: if (isDeployJumpBox) {\\n  scope: resourceGroup(firewallIp.subscriptionId, firewallIp.resourceGroupName)\\n  name: '${prefix}firewallIPDeploy${firewallIp.firewallIPName}'\\n  params: {\\n    name: firewallIp.firewallIPName\\n    location: mainLocation\\n    tags: { environment: environment }\\n    publicIPAllocationMethod: firewallIp.firewallIpAllocationMethod\\n    skuName: firewallIp.firewallSkuName\\n    zones: firewallIp.zones\\n  }\\n  dependsOn: [\\n    connResourceGroupModule\\n  ]\\n}]\\n\\n//firewall policy deployment \\nmodule firewallPolicyModule 'modules/network/firewall-policy/main.bicep' = [for firewallPolicy in connFireWalls: if (isDeployJumpBox) {\\n  scope: resourceGroup(firewallPolicy.subscriptionId, firewallPolicy.resourceGroupName)\\n  name: '${prefix}firewallPolicyDeploy${firewallPolicy.firewallPolicyName}'\\n  params: {\\n    name: firewallPolicy.firewallPolicyName\\n    tier: firewallPolicy.firewallPolicyTier\\n    threatIntelMode: firewallPolicy.threatIntelMode\\n    location: mainLocation\\n    ruleCollectionGroups: firewallPolicy.firewallPolicyRuleCollectionGroups\\n  }\\n  dependsOn: [\\n    connResourceGroupModule\\n  ]\\n}]\\n\\n//firewall deployment \\nmodule firewallModule 'modules/network/azure-firewall/main.bicep' = [for (firewall, i) in connFireWalls: if (isDeployJumpBox) {\\n  scope: resourceGroup(firewall.subscriptionId, firewall.resourceGroupName)\\n  name: '${prefix}firewallDeploy${firewall.firewallName}'\\n  params: {\\n    name: firewall.firewallName\\n    firewallPolicyId: isDeployFirewall ? firewallPolicyModule[i].outputs.resourceId : '0.0.0.0'\\n    publicIPResourceID: isDeployFirewall ? firewallIPModule[i].outputs.resourceId : '0.0.0.0'\\n    threatIntelMode: firewall.threatIntelMode\\n    vNetId: '/subscriptions/${firewall.subscriptionId}/resourceGroups/${firewall.resourceGroupName}/providers/Microsoft.Network/virtualNetworks/${firewall.vNetName}'\\n    azureSkuTier: firewall.firewallSkuTier\\n    diagnosticWorkspaceId: workspaceResourceId\\n    location: mainLocation\\n    zones: firewall.zones\\n  }\\n  dependsOn: [\\n    firewallIPModule\\n    firewallPolicyModule\\n  ]\\n}]\\n\\n//routeTable deployment\\nmodule routeTableModule 'modules/network/route-table/main.bicep' = [for routeTable in connRouteTables: {\\n  scope: resourceGroup(routeTable.subscriptionId, routeTable.resourceGroupName)\\n  name: '${prefix}routeTableDeploy${routeTable.routeTableName}'\\n  params: {\\n    name: routeTable.routeTableName\\n    location: mainLocation\\n    routes: routeTable.routes\\n    disableBgpRoutePropagation: routeTable.disableBgpRoutePropagation\\n  }\\n  dependsOn: [\\n    connResourceGroupModule\\n  ]\\n}]\\n\", \"id\": null, \"title\": null, \"filepath\": null, \"url\": null, \"metadata\": {\"chunking\": \"orignal document size=4910. Scores=2.4718328 and None.Org Highlight count=9.Filtering to chunk no. 2/Highlights=1 of size=83\"}, \"chunk_id\": \"2\"}, {\"content\": \"param prefix string\\nparam mainLocation string\\nparam environment string\\nparam identityResourceGroups array\\nparam identityVirtualNetworks array\\nparam identitySecurityGroups array\\nparam identityRouteTables array\\nparam enableADDSForest bool\\nparam isDeployAvailbilityZone bool\\nparam virtualMachines array\\nparam identityKeyVaults array\\nparam adminUser string\\nparam adminPassword string\\nparam _artifactsLocation string\\nparam _artifactsLocationSasToken string\\n\\nvar createADDSForestModelUri = '${_artifactsLocation}CreateADDSForest.zip${_artifactsLocationSasToken}'\\nvar addDCtoDomainModuleUri = '${_artifactsLocation}AddDCtoDomain.zip${_artifactsLocationSasToken}'\\n\\nvar ips = [for vm in virtualMachines: vm.identityVMPrivateIp]\\n\\ntargetScope = 'subscription'\\n//Identity resource Group deployment\\nmodule IdentityResourceGroupModule 'modules/resources/resource-group/main.bicep' = [for resourceGroupName in identityResourceGroups: {\\n  scope: subscription(resourceGroupName.subscriptionId)\\n  name: '${prefix}rgDeploy${resourceGroupName.name}'\\n  params: {\\n    name: resourceGroupName.name\\n    location: mainLocation\\n  }\\n}]\\noutput ipsArray array = ips\\n\\n// Identity NSG deployment\\nmodule identityNSGModule 'modules/network/network-security-group/main.bicep' = [for nsg in identitySecurityGroups: {\\n  scope: resourceGroup(nsg.subscriptionId, nsg.resourceGroupName)\\n  name: '${prefix}identityNSGDeploy${nsg.name}'\\n  params: {\\n    tags: { environment: environment }\\n    name: nsg.name\\n    location: mainLocation\\n    securityRules: []\\n  }\\n  dependsOn: [\\n    IdentityResourceGroupModule\\n  ]\\n}]\\n\\n// key vault for Identity RG\\nmodule identitykeyVaultModule 'modules/key-vault/vault/main.bicep' = [for keyvault in identityKeyVaults: {\\n  scope: resourceGroup(keyvault.subscriptionId, keyvault.resourceGroupName)\\n  name: '${prefix}identityKeyVaultDeploy${keyvault.name}'\\n  params: {\\n    tags: { environment: environment }\\n    name: keyvault.name\\n    vaultSku: keyvault.keyVaultSkuName\\n    location: mainLocation\\n  }\\n  dependsOn: [\\n    dscVMExtensionModule\\n  ]\\n}]\\n\\n// Identity virtual network deployment\\nmodule IdentityVnetModule 'modules/network/virtual-network/main.bicep' = [for virtualNetwork in identityVirtualNetworks: {\\n  scope: resourceGroup(virtualNetwork.subscriptionId, virtualNetwork.resourceGroupName)\\n  name: '${prefix}IdentityVnetDeploy${virtualNetwork.name}'\\n  params: {\\n    tags: { environment: environment }\\n    location: mainLocation\\n    name: virtualNetwork.name\\n    addressPrefixes: [ virtualNetwork.addressPrefixes ]\\n    subnets: [for subnet in virtualNetwork.Subnets: contains(subnet, 'nsgName') && contains(subnet, 'routeTableName') ? {\\n      name: subnet.name\\n      addressPrefix: subnet.addressPrefix\\n      networkSecurityGroupId: '/subscriptions/${virtualNetwork.subscriptionId}/resourceGroups/${virtualNetwork.resourceGroupName}/providers/Microsoft.Network/networkSecurityGroups/${subnet.nsgName}'\\n      routeTableId: '/subscriptions/${virtualNetwork.subscriptionId}/resourceGroups/${virtualNetwork.resourceGroupName}/providers/Microsoft.Network/routeTables/${subnet.routeTableName}'\\n    } : contains(subnet, 'nsgName') ? {\\n      name: subnet.name\\n      addressPrefix: subnet.addressPrefix\\n      networkSecurityGroupId: '/subscriptions/${virtualNetwork.subscriptionId}/resourceGroups/${virtualNetwork.resourceGroupName}/providers/Microsoft.Network/networkSecurityGroups/${subnet.nsgName}'\\n\\n    } : contains(subnet, 'routeTableId') ? {\\n      addressPrefix: subnet.addressPrefix\\n      name: subnet.name\\n      routeTableId: '/subscriptions/${virtualNetwork.subscriptionId}/resourceGroups/${virtualNetwork.resourceGroupName}/providers/Microsoft.Network/routeTables/${subnet.routeTableName}'\\n    } : {\\n      name: subnet.name\\n      addressPrefix: subnet.addressPrefix\\n    }]\\n    dnsServers: []\\n  }\\n  dependsOn: [\\n    IdentityResourceGroupModule\\n  ]\\n}]\\n\\n//routeTable deployment\\nmodule routeTableModule 'modules/network/route-table/main.bicep' = [for routeTable in identityRouteTables: {\\n  scope: resourceGroup(routeTable.subscriptionId, routeTable.resourceGroupName)\\n  name: '${prefix}routeTableDeploy${routeTable.name}'\\n  params: {\\n    name: routeTable.name\\n    location: mainLocation\\n    routes: [for route in routeTable.routes: {\\n      name: route.name\\n      properties: {\\n        addressPrefix: route.addressPrefix\\n        nextHopIpAddress: route.NextHopIpAddress\\n        nextHopType: route.nextHopType\\n      }\\n    }\\n    ]\\n    disableBgpRoutePropagation: true\\n  }\\n  dependsOn: [\\n    IdentityResourceGroupModule\\n  ]\\n}]\\n\\n//Identity VM deploy\\nmodule availabilityZoneVMs 'modules/compute/virtual-machine/main.bicep' = [for virtualMachine in virtualMachines: if (isDeployAvailbilityZone) {\\n  scope: resourceGroup(virtualMachine.subscriptionId, virtualMachine.resourceGroupName)\\n  name: '${prefix}${virtualMachine.identityVMName}Deploy'\\n  params: {\\n    tags: { environment: environment }\\n    location: mainLocation\\n    adminPassword: adminPassword\\n    adminUsername: adminUser\\n    computerName: virtualMachine.identityVMComputerName\\n    name: virtualMachine.identityVMName\\n    osType: virtualMachine.osType\\n    vmSize: virtualMachine.vmSize\\n    imageReference: {\\n      publisher: virtualMachine.imagePublisher\\n      offer: virtualMachine.imageOffer\\n      sku: virtualMachine.imageSku\\n      version: virtualMachine.imageVersion\\n    }\\n    osDisk: {\\n      createOption: 'FromImage'\\n      diskSizeGB: 127\\n      managedDisk: {\\n        storageAccountType: virtualMachine.vmDiskStorageType\\n      }\\n    }\\n    nicConfigurations: [\\n      {\\n        nicSuffix: virtualMachine.identityVMNicSuffix\\n        networkSecurityGroupResourceId: '/subscriptions/${virtualMachine.subscriptionId}/resourceGroups/${virtualMachine.resourceGroupName}/providers/Microsoft.Network/networkSecurityGroups/${virtualMachine.nsgName}'\\n        dnsServers: virtualMachine.extensionName == 'AddDCtoDomain' ? ips : []\\n        ipConfigurations: [\\n          {\\n            name: 'ipconfig1'\\n            privateIPAllocationMethod: 'Static'\\n            privateIPAddress: virtualMachine.identityVMPrivateIp\\n            subnetResourceId: '/subscriptions/${virtualMachine.subscriptionId}/resourceGroups/${virtualMachine.resourceGroupName}/providers/Microsoft.Network/virtualNetworks/${virtualMachine.vNetName}/subnets/${virtualMachine.subnetName}'\\n          }\\n        ]\\n      }\\n    ]\\n    availabilityZone: virtualMachine.identityVmAvailabilityZone\\n    encryptionAtHost: false\\n  }\\n  dependsOn: [\\n    IdentityResourceGroupModule\\n  ]\\n}]\\n\\n// ADDS forest extension\\nmodule dscVMExtensionModule 'modules/compute/virtual-machine/extension/main.bicep' = [for virtualMachine in virtualMachines: if (enableADDSForest && contains(virtualMachine.extensionName, 'CreateADDSForest')) {\\n  scope: resourceGroup(virtualMachine.subscriptionId, virtualMachine.resourceGroupName)\\n  name: '${prefix}dscadvm01Deploy${virtualMachine.identityVMName}'\\n  params: {\\n    name: 'CreateADDSForest'\\n    publisher: 'Microsoft.Powershell'\\n    type: 'DSC'\\n    typeHandlerVersion: '2.19'\\n    autoUpgradeMinorVersion: true\\n    enableAutomaticUpgrade: false\\n    virtualMachineName: virtualMachine.identityVMName\\n    location: mainLocation\\n    settings: {\\n      ModulesUrl: createADDSForestModelUri\\n      ConfigurationFunction: 'CreateADDSForest.ps1\\\\\\\\CreateADDSForest'\\n      Properties: {\\n        DomainName: virtualMachine.domainName\\n        AdminCreds: {\\n          UserName: adminUser\\n          Password: 'PrivateSettingsRef:AdminPassword'\\n        }\\n      }\\n    }\\n    protectedSettings: {\\n      Items: {\\n        AdminPassword: adminPassword\\n      }\\n    }\\n  }\\n  dependsOn: [\\n    IdentityVnetModule\\n    availabilityZoneVMs\\n  ]\\n}]\\n\\n// ADD DC to Domain extension\\nmodule dcVMExtensionModule 'modules/compute/virtual-machine/extension/main.bicep' = [for virtualMachine in virtualMachines: if (enableADDSForest && contains(virtualMachine.extensionName, 'AddDCtoDomain')) {\\n  scope: resourceGroup(virtualMachine.subscriptionId, virtualMachine.resourceGroupName)\\n  name: '${prefix}dscadvm02Deploy${virtualMachine.identityVMName}'\\n  params: {\\n    name: 'AddDCtoDomain'\\n    publisher: 'Microsoft.Powershell'\\n    type: 'DSC'\\n    typeHandlerVersion: '2.19'\\n    autoUpgradeMinorVersion: true\\n    enableAutomaticUpgrade: false\\n    virtualMachineName: virtualMachine.identityVMName\\n    location: mainLocation\\n    settings: {\\n      ModulesUrl: addDCtoDomainModuleUri\\n      ConfigurationFunction: 'AddDCtoDomain.ps1\\\\\\\\AddDCtoDomain'\\n      Properties: {\\n        DomainName: virtualMachine.domainName\\n        AdminCreds: {\\n          UserName: adminUser\\n          Password: 'PrivateSettingsRef:AdminPassword'\\n        }\\n      }\\n    }\\n    protectedSettings: {\\n      Items: {\\n        AdminPassword: adminPassword\\n      }\\n    }\\n  }\\n  dependsOn: [\\n    dscVMExtensionModule\\n    identitykeyVaultModule\\n  ]\\n}]\\n\\n//antimalware extension for advm01\\nmodule antimalwareVMExtensionModule 'modules/compute/virtual-machine/extension/main.bicep' = [for virtualMachine in virtualMachines: if (enableADDSForest) {\\n  scope: resourceGroup(virtualMachine.subscriptionId, virtualMachine.resourceGroupName)\\n  name: '${prefix}antimalwareADDeploy${virtualMachine.identityVMName}'\\n  params: {\\n    tags: { environment: environment }\\n    virtualMachineName: enableADDSForest ? virtualMachine.identityVMName : ''\\n    name: 'IaaSAntimalware'\\n    publisher: 'Microsoft.Azure.Security'\\n    type: 'IaaSAntimalware'\\n    autoUpgradeMinorVersion: true\\n    enableAutomaticUpgrade: false\\n    typeHandlerVersion: '1.3'\\n    location: mainLocation\\n    settings: {\\n      AntimalwareEnabled: true\\n      RealtimeProtectionEnabled: 'true'\\n      ScheduledScanSettings: {\\n        isEnabled: 'true'\\n        day: '7'\\n        time: '120'\\n        scanType: 'Quick'\\n      }\\n    }\\n  }\\n  dependsOn: enableADDSForest ? [ dcVMExtensionModule ] : []\\n}]\\n\\n//diskEncryption extension for advm01\\nmodule diskEncryptionVMExtensionModule 'modules/compute/virtual-machine/extension/main.bicep' = [for virtualMachine in virtualMachines: if (enableADDSForest) {\\n  scope: resourceGroup(virtualMachine.subscriptionId, virtualMachine.resourceGroupName)\\n  name: '${prefix}diskEncryptioneadvmDeploy${virtualMachine.identityVMName}'\\n  params: {\\n    tags: { environment: environment }\\n    virtualMachineName: isDeployAvailbilityZone ? virtualMachine.identityVMName : ''\\n    name: 'diskEncryption'\\n    publisher: 'Microsoft.Azure.Security'\\n    type: 'AzureDiskEncryption'\\n    autoUpgradeMinorVersion: true\\n    enableAutomaticUpgrade: false\\n    typeHandlerVersion: '2.2'\\n    location: mainLocation\\n    settings: {\\n      EncryptionOperation: 'EnableEncryption'\\n      keyEncryptionAlgorithm: 'RSA-OAEP'\\n      KeyVaultURL: enableADDSForest ? identitykeyVaultModule[0].outputs.uri : ''\\n      KeyVaultResourceId: enableADDSForest ? identitykeyVaultModule[0].outputs.resourceId : ''\\n      VolumeType: 'All'\\n    }\\n  }\\n  dependsOn: enableADDSForest ? [ antimalwareVMExtensionModule ] : []\\n}]\\n\\nmodule addRouteTableToSubentModule 'modules/network/virtual-network/subnet/main.bicep' = [for addRouteToSubnet in identityRouteTables: if (contains(addRouteToSubnet, 'routeTableSubnet')) {\\n  scope: resourceGroup(addRouteToSubnet.subscriptionId, addRouteToSubnet.resourceGroupName)\\n  name: '${prefix}addRouteTableToSubent${addRouteToSubnet.routeTableSubnet}'\\n  params: {\\n    routeTableId: '/subscriptions/${addRouteToSubnet.subscriptionId}/resourceGroups/${addRouteToSubnet.resourceGroupName}/providers/Microsoft.Network/routeTables/${addRouteToSubnet.name}'\\n    name: addRouteToSubnet.routeTableSubnet\\n    addressPrefix: addRouteToSubnet.routeTableSubnetPrefix\\n    virtualNetworkName: addRouteToSubnet.virtualNetworkName\\n  }\\n  dependsOn: enableADDSForest ? [ dcVMExtensionModule, antimalwareVMExtensionModule, diskEncryptionVMExtensionModule ] : []\\n}]\\noutput dnsServersIpArray array = [for vmIp in virtualMachines: '${vmIp.identityVMPrivateIp}']\\n\", \"id\": null, \"title\": null, \"filepath\": null, \"url\": null, \"metadata\": {\"chunking\": \"orignal document size=4061. Scores=1.3799826 and None.Org Highlight count=12.Filtering to chunk no. 2/Highlights=3 of size=484\"}, \"chunk_id\": \"2\"}], \"intent\": \"[\\\"Can you provide a Bicep file to deploy Azure resources, including virtual machines?\\\"]\"}\n"
     ]
    }
   ],
   "source": [
    "import requests\n",
    "import json\n",
    "url = \"https://ch1-open-ai.openai.azure.com/openai/deployments/ContosoDemos-OpenAI-gpt-35-turbo/extensions/chat/completions?api-version=2023-06-01-preview\"\n",
    "headers =  {\"Content-Type\":\"application/json\",\"api-key\": \"a33c3a92d6694dedad2bf1e2fb7a9c48\" }\n",
    "data = '''{\n",
    "    \"dataSources\": [\n",
    "        {\n",
    "            \"type\": \"AzureCognitiveSearch\",\n",
    "            \"parameters\": {\n",
    "                \"endpoint\": \"https://contoso.search.windows.net\",\n",
    "                \"key\": \"aAEeBL5XE83GVHfJqulOn4BBdRpZJ5J7fizBsAWL6jAzSeAf0yNt\",\n",
    "                \"indexName\": \"carml-index-sample\"\n",
    "            }\n",
    "        }\n",
    "    ],\n",
    "    \"messages\": [\n",
    "        {\n",
    "            \"role\": \"user\",\n",
    "            \"content\": \"Bicep file that contains code to deploy Azure resources, including virtual machines?\"\n",
    "        }\n",
    "    ]\n",
    "}'''\n",
    "response = requests.post(url, data=data, headers=headers)\n",
    "json_data = json.loads(response.text)\n",
    "print(str(json_data[\"choices\"][0]['messages'][0]['content']))"
   ]
  }
 ],
 "metadata": {
  "kernelspec": {
   "display_name": "Python 3 (ipykernel)",
   "language": "python",
   "name": "python3"
  },
  "language_info": {
   "codemirror_mode": {
    "name": "ipython",
    "version": 3
   },
   "file_extension": ".py",
   "mimetype": "text/x-python",
   "name": "python",
   "nbconvert_exporter": "python",
   "pygments_lexer": "ipython3",
   "version": "3.11.5"
  }
 },
 "nbformat": 4,
 "nbformat_minor": 5
}
