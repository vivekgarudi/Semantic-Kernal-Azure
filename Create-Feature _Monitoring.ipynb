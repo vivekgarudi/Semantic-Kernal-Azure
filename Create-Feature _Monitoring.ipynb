{
 "cells": [
  {
   "cell_type": "markdown",
   "id": "3c93ac5b",
   "metadata": {},
   "source": [
    "# Semantic Kernel\n",
    "![Alt text](image-1.png)         ![Alt text](image.png)"
   ]
  },
  {
   "cell_type": "markdown",
   "id": "1bc1e18e",
   "metadata": {},
   "source": [
    "![Alt text](image-2.png)"
   ]
  },
  {
   "attachments": {},
   "cell_type": "markdown",
   "id": "40201641",
   "metadata": {
    "tags": [
     "funtion"
    ]
   },
   "source": [
    "Install all python libraries"
   ]
  },
  {
   "attachments": {},
   "cell_type": "markdown",
   "id": "d90b0c13",
   "metadata": {},
   "source": [
    "Prepare a semantic kernel instance first, loading also the AI service settings defined in the [Setup notebook](00-getting-started.ipynb):"
   ]
  },
  {
   "cell_type": "code",
   "execution_count": null,
   "id": "1da651d4",
   "metadata": {},
   "outputs": [],
   "source": [
    "!python -m pip install semantic-kernel==0.3.10.dev0\n",
    "!python -m pip install azure-devops\n",
    "!python -m pip install semantic-kernel==0.3.10.dev0\n",
    "!python -m pip install azure-search-documents==11.3.0b1 # you need to copy source as latest release also does not have all the models\n",
    "#!python -m pip install azure-mgmt-search --pre --upgrade"
   ]
  },
  {
   "cell_type": "markdown",
   "id": "c460e218",
   "metadata": {},
   "source": [
    "Import Packages required"
   ]
  },
  {
   "cell_type": "code",
   "execution_count": 1,
   "id": "dd150646",
   "metadata": {},
   "outputs": [],
   "source": [
    "import os\n",
    "import sys\n",
    "import asyncio\n",
    "from dotenv import dotenv_values\n",
    "import semantic_kernel as sk\n",
    "from semantic_kernel import ContextVariables, Kernel # Context to store variables and Kernel to interact with the kernel\n",
    "from semantic_kernel.connectors.ai.open_ai import AzureChatCompletion, OpenAIChatCompletion ,AzureTextEmbedding # AI services\n",
    "from semantic_kernel.planning.sequential_planner import SequentialPlanner # Planner\n",
    "from semantic_kernel.planning.basic_planner import BasicPlanner # Planner\n",
    "import pandas as pd\n",
    "\n",
    "\n",
    "kernel = sk.Kernel() # Create a kernel instance\n",
    "kernel1 = sk.Kernel() #create another kernel instance for not having semanitc function in the same kernel \n",
    "\n",
    "useAzureOpenAI = True\n",
    "config = dotenv_values(\".env\")\n",
    "COLLECTION_NAME = \"carml-index-sample\"\n",
    "\n",
    "AZURE_COGNITIVE_SEARCH_ENDPOINT = config[\"AZURE_COGNITIVE_SEARCH_ENDPOINT\"]\n",
    "AZURE_COGNITIVE_SEARCH_ADMIN_KEY = config[\"AZURE_COGNITIVE_SEARCH_ADMIN_KEY\"]\n",
    "AZURE_OPENAI_API_KEY = config[\"AZURE_OPENAI_API_KEY\"]\n",
    "AZURE_OPENAI_ENDPOINT = config[\"AZURE_OPENAI_ENDPOINT\"]\n",
    "AZURE_OPENAI_EM_DEPLOYMENT_NAME = config[\"AZURE_OPENAI_EM_DEPLOYMENT_NAME\"]\n",
    "AZURE_OPENAI_DEPLOYMENT_NAME = config[\"AZURE_OPENAI_DEPLOYMENT_NAME\"]\n",
    "# Configure AI service used by the kernel\n",
    "if useAzureOpenAI:\n",
    "    deployment, api_key, endpoint = sk.azure_openai_settings_from_dot_env()\n",
    "    kernel.add_chat_service(\"chat_completion\", AzureChatCompletion(deployment, endpoint, api_key))\n",
    "    kernel1.add_chat_service(\"chat_completion\", AzureChatCompletion(deployment, endpoint, api_key))\n",
    "    kernel1.add_text_embedding_generation_service(\"ada\", AzureTextEmbedding(AZURE_OPENAI_EM_DEPLOYMENT_NAME, endpoint, api_key))\n",
    "    kernel1.register_memory_store(memory_store=sk.memory.VolatileMemoryStore())\n",
    "    kernel1.import_skill(sk.core_skills.TextMemorySkill())\n",
    "else:\n",
    "    api_key, org_id = sk.openai_settings_from_dot_env()\n",
    "    kernel.add_chat_service(\"chat-gpt\", OpenAIChatCompletion(\"gpt-3.5-turbo\", api_key, org_id))"
   ]
  },
  {
   "cell_type": "code",
   "execution_count": null,
   "id": "d537cdae",
   "metadata": {},
   "outputs": [],
   "source": [
    "deployment, api_key, endpoint"
   ]
  },
  {
   "cell_type": "code",
   "execution_count": 2,
   "id": "f2ce93af",
   "metadata": {},
   "outputs": [],
   "source": [
    "from plugins.AzureMonitor.Log_Analytics import loganalytics\n",
    "math_plugin = kernel.import_skill(loganalytics(kernel1), skill_name=\"AzureMonitor\")\n",
    "variables = ContextVariables()\n",
    "variables[\"description\"] = \"test\""
   ]
  },
  {
   "attachments": {},
   "cell_type": "markdown",
   "id": "589733c5",
   "metadata": {},
   "source": [
    "Import the **Semantic functions**:Azuredevops\n"
   ]
  },
  {
   "cell_type": "markdown",
   "id": "f5026081",
   "metadata": {},
   "source": [
    "App requests trend\n",
    "application Failed requests\n",
    "Application response time trend\n",
    "Application usage by contry\n",
    "container inventory\n",
    "virtual machines\n",
    "Accounts Failed to Logon\n",
    "Active service principal risk detections \n",
    "Active user risk detections \n",
    "All Azure Activity \n",
    "All Security Activities\n",
    "All SiginLogs events\n",
    "Failed MFA challenge\n",
    "Failed login Count \n",
    "Avg node CPU usage percentage per minute  \n",
    "Container CPU \n",
    "Signin Locations\n"
   ]
  },
  {
   "cell_type": "code",
   "execution_count": 3,
   "id": "c67b7e03",
   "metadata": {},
   "outputs": [
    {
     "name": "stdout",
     "output_type": "stream",
     "text": [
      "SigninLogs| summarize Successful=countif(ResultType==0), Failed=countif(ResultType!=0) by Location\n",
      "   Location  Successful  Failed\n",
      "0        US         983      17\n",
      "1        GB         157       7\n",
      "2        AU         154     111\n",
      "3        FR         174       1\n",
      "4        IN         188      16\n",
      "5        IL         128       0\n",
      "6        VN          63       8\n",
      "7        ES          41       0\n",
      "8        NL          32       3\n",
      "9        TR          31       2\n",
      "10       BR          28       0\n",
      "11       SG          33       0\n",
      "12       TH          24       0\n",
      "13       CA          44       0\n",
      "14       JP          24       0\n",
      "15       DE          27       0\n",
      "16       CH          25       0\n",
      "17       BE          16       0\n",
      "18       IT           9       2\n",
      "19       IE         133       2\n",
      "20       PH          15       2\n",
      "21       MY          15       0\n",
      "22       PK          14       0\n",
      "23       MX          13       3\n",
      "24       SE           6       3\n",
      "25       EG           7       0\n",
      "26       ID           9       5\n",
      "27       NO           8       0\n",
      "28       MU           5       0\n",
      "29       AE           3       0\n",
      "30       DK           3       0\n",
      "31       MA           3       0\n",
      "32       KR           1       0\n",
      "33       RO           1       0\n",
      "34       QA           1       0\n",
      "35       FI           3       0\n",
      "36       NZ           5       0\n",
      "37       AT           1       0\n",
      "38       CO           1       0\n",
      "39       CZ           1       0\n",
      "40       CR           3       3\n",
      "41       GT           3       2\n",
      "42       AL           1       0\n"
     ]
    }
   ],
   "source": [
    "import plotly.express as px\n",
    "variables[\"title\"] = \"please share all sign-in location?\"\n",
    "result = await kernel.run_async( math_plugin[\"lquery\"], input_vars=variables )\n",
    "print(variables[\"Df\"])\n",
    "\n",
    "\n"
   ]
  },
  {
   "cell_type": "markdown",
   "id": "8779d9dc",
   "metadata": {},
   "source": [
    "using KQL query"
   ]
  },
  {
   "cell_type": "code",
   "execution_count": 4,
   "id": "92a370a2",
   "metadata": {},
   "outputs": [],
   "source": [
    "# note: using skills from the samples folder\n",
    "plugins_directory = \"./plugins\"\n",
    "\n",
    "    # Import the semantic functions\n",
    "DevFunctions=kernel1.import_semantic_skill_from_directory(plugins_directory, \"AzureMonitor\")\n",
    "\n"
   ]
  },
  {
   "cell_type": "code",
   "execution_count": 8,
   "id": "11c3da3b",
   "metadata": {},
   "outputs": [
    {
     "name": "stdout",
     "output_type": "stream",
     "text": [
      "SigninLogs | summarize count() by Location | project Location\n"
     ]
    }
   ],
   "source": [
    "FDesFunction = DevFunctions[\"KQLquery\"]    \n",
    "resultFD = FDesFunction(\"please share all sign-in location?\")\n",
    "print(resultFD)\n"
   ]
  },
  {
   "cell_type": "code",
   "execution_count": 6,
   "id": "063be729",
   "metadata": {},
   "outputs": [],
   "source": [
    "from plugins.AzureMonitor.Log_AnalyticsS import sloganalytics\n",
    "plugins_directory = \"./plugins\"\n",
    "\n",
    "    # Import the semantic functions\n",
    "DevFunctions=kernel1.import_semantic_skill_from_directory(plugins_directory, \"AzureMonitor\")\n",
    "\n",
    "math_plugin = kernel.import_skill(sloganalytics(kernel1), skill_name=\"AzureMonitor\")\n",
    "variables = ContextVariables()\n",
    "variables[\"description\"] = \"test\""
   ]
  },
  {
   "cell_type": "code",
   "execution_count": 9,
   "id": "f9223b1a",
   "metadata": {},
   "outputs": [
    {
     "name": "stdout",
     "output_type": "stream",
     "text": [
      "we are here\n",
      "SigninLogs | summarize Successful=countif(ResultType==0), Failed=countif(ResultType!=0) by Location\n",
      "SigninLogs | summarize Successful=countif(ResultType==0), Failed=countif(ResultType!=0) by Location\n",
      "   Location  Successful  Failed\n",
      "0        US         982      17\n",
      "1        GB         157       7\n",
      "2        AU         154     112\n",
      "3        FR         174       1\n",
      "4        IN         188      16\n",
      "5        IL         128       0\n",
      "6        VN          63       8\n",
      "7        ES          41       0\n",
      "8        NL          32       3\n",
      "9        TR          31       2\n",
      "10       BR          28       0\n",
      "11       SG          33       0\n",
      "12       TH          24       0\n",
      "13       CA          44       0\n",
      "14       JP          24       0\n",
      "15       DE          27       0\n",
      "16       CH          25       0\n",
      "17       BE          16       0\n",
      "18       IT           9       2\n",
      "19       IE         133       2\n",
      "20       PH          15       2\n",
      "21       MY          15       0\n",
      "22       PK          14       0\n",
      "23       MX          13       3\n",
      "24       SE           6       3\n",
      "25       EG           7       0\n",
      "26       ID           9       5\n",
      "27       NO           8       0\n",
      "28       MU           5       0\n",
      "29       AE           3       0\n",
      "30       DK           3       0\n",
      "31       MA           3       0\n",
      "32       KR           1       0\n",
      "33       RO           1       0\n",
      "34       QA           1       0\n",
      "35       CR           3       3\n",
      "36       GT           3       2\n",
      "37       AT           1       0\n",
      "38       CO           1       0\n",
      "39       CZ           1       0\n",
      "40       NZ           5       0\n",
      "41       FI           3       0\n",
      "42       AL           1       0\n"
     ]
    }
   ],
   "source": [
    "variables[\"title\"] = \"please share all sign-in location with successful and failed count?\"\n",
    "result = await kernel.run_async( math_plugin[\"slquery\"], input_vars=variables )\n",
    "print(variables[\"Df\"])"
   ]
  },
  {
   "cell_type": "code",
   "execution_count": null,
   "id": "477cf2c7",
   "metadata": {},
   "outputs": [],
   "source": [
    "\n"
   ]
  },
  {
   "cell_type": "code",
   "execution_count": null,
   "id": "783b5271",
   "metadata": {},
   "outputs": [],
   "source": [
    "from azure.monitor.query import LogsQueryClient, LogsQueryStatus\n",
    "from azure.core.exceptions import HttpResponseError\n",
    "from azure.identity import DefaultAzureCredential\n",
    "from datetime import timedelta      \n",
    "#txtquery = str(resultFD)\n",
    "credential  = DefaultAzureCredential()\n",
    "client = LogsQueryClient(credential)\n",
    "#txtquery = \"'\"+ txtquery + \"'\"\n",
    "#print(txtquery)  \n",
    "txtquery=\"SigninLogs | summarize count() by Location | project Location\"\n",
    "#txtquery='\"' + txtquery + '\"' \n",
    "print(txtquery)\n",
    "LOGS_WORKSPACE_ID=\"81a662b5-8541-481b-977d-5d956616ac5e\"\n",
    "response = client.query_workspace(LOGS_WORKSPACE_ID,txtquery,timespan=timedelta(days=1))\n",
    "try: \n",
    "            print(txtquery)           \n",
    "            if response.status == LogsQueryStatus.PARTIAL:\n",
    "                print(txtquery +\" partial\")\n",
    "                error = response.partial_error\n",
    "                data = response.partial_data\n",
    "            elif response.status == LogsQueryStatus.SUCCESS:\n",
    "                print(txtquery+\" Success\")\n",
    "                viz = response.visualization\n",
    "                data = response.tables\n",
    "            for table in data:\n",
    "                df = pd.DataFrame(data=table.rows, columns=table.columns)\n",
    "                context[\"df\"] = df\n",
    "                #return df\n",
    "except HttpResponseError as err:\n",
    "            print (err)\n",
    "            #return err\n",
    "       "
   ]
  }
 ],
 "metadata": {
  "kernelspec": {
   "display_name": "Python 3 (ipykernel)",
   "language": "python",
   "name": "python3"
  },
  "language_info": {
   "codemirror_mode": {
    "name": "ipython",
    "version": 3
   },
   "file_extension": ".py",
   "mimetype": "text/x-python",
   "name": "python",
   "nbconvert_exporter": "python",
   "pygments_lexer": "ipython3",
   "version": "3.11.5"
  }
 },
 "nbformat": 4,
 "nbformat_minor": 5
}
