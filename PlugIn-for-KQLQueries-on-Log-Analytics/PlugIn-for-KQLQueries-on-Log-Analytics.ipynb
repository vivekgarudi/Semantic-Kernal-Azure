{
 "cells": [
  {
   "attachments": {},
   "cell_type": "markdown",
   "id": "40201641",
   "metadata": {
    "tags": [
     "funtion"
    ]
   },
   "source": [
    "# Step 1 Install all python libraries"
   ]
  },
  {
   "cell_type": "code",
   "execution_count": null,
   "id": "1da651d4",
   "metadata": {},
   "outputs": [],
   "source": [
    "!python -m pip install semantic-kernel\n",
    "!python -m pip install azure.monitor\n",
    "!python -m pip install pandas\n",
    "!python -m pip install azure.identity\n",
    "!python -m pip install azure.core\n"
   ]
  },
  {
   "cell_type": "markdown",
   "id": "c460e218",
   "metadata": {},
   "source": [
    "# Step 2 Import Packages required Prepare a semantic kernel instance first\n"
   ]
  },
  {
   "cell_type": "code",
   "execution_count": null,
   "id": "dd150646",
   "metadata": {},
   "outputs": [],
   "source": [
    "from dotenv import dotenv_values\n",
    "import semantic_kernel as sk\n",
    "from semantic_kernel import ContextVariables # Context to store variables and Kernel to interact with the kernel\n",
    "from semantic_kernel.connectors.ai.open_ai import AzureChatCompletion, OpenAIChatCompletion ,AzureTextEmbedding # AI services\n",
    "import pandas as pd\n",
    "\n",
    "\n",
    "kernel = sk.Kernel() # Create a kernel instance\n",
    "kernel1 = sk.Kernel() #create another kernel instance for not having semanitc function in the same kernel \n",
    "\n",
    "useAzureOpenAI = True\n",
    "config = dotenv_values(\".env\")\n",
    "AZURE_OPENAI_API_KEY = config[\"AZURE_OPENAI_API_KEY\"]\n",
    "AZURE_OPENAI_ENDPOINT = config[\"AZURE_OPENAI_ENDPOINT\"]\n",
    "AZURE_OPENAI_DEPLOYMENT_NAME = config[\"AZURE_OPENAI_DEPLOYMENT_NAME\"]\n",
    "# Configure AI service used by the kernel\n",
    "if useAzureOpenAI:\n",
    "    deployment, api_key, endpoint = sk.azure_openai_settings_from_dot_env()\n",
    "    kernel.add_chat_service(\"chat_completion\", AzureChatCompletion(deployment, endpoint, api_key))\n",
    "    kernel1.add_chat_service(\"chat_completion\", AzureChatCompletion(deployment, endpoint, api_key))\n",
    "else:\n",
    "    api_key, org_id = sk.openai_settings_from_dot_env()\n",
    "    kernel.add_chat_service(\"chat-gpt\", OpenAIChatCompletion(\"gpt-3.5-turbo\", api_key, org_id))"
   ]
  },
  {
   "cell_type": "markdown",
   "id": "afe932d1",
   "metadata": {},
   "source": [
    "# Step 3 Importing skills and function from folder"
   ]
  },
  {
   "cell_type": "code",
   "execution_count": null,
   "id": "accad8b0",
   "metadata": {},
   "outputs": [],
   "source": [
    "plugins_directory = \"./plugins\"\n",
    "DevFunctions=kernel1.import_semantic_skill_from_directory(plugins_directory, \"AzureMonitor\") # import the skill from the folder\n",
    "FDesFunction = DevFunctions[\"KQLquerySignin\"]  # get the semantic function"
   ]
  },
  {
   "cell_type": "markdown",
   "id": "e94926e0",
   "metadata": {},
   "source": [
    "# Step 4 calling the semantic function with string"
   ]
  },
  {
   "cell_type": "code",
   "execution_count": null,
   "id": "c8010ad5",
   "metadata": {},
   "outputs": [],
   "source": [
    "  \n",
    "resultFD = FDesFunction(\"please share all sign-in location?\")\n",
    "print(resultFD)\n"
   ]
  },
  {
   "cell_type": "markdown",
   "id": "1b151556",
   "metadata": {},
   "source": [
    "# Step 5 Importing native function"
   ]
  },
  {
   "cell_type": "code",
   "execution_count": null,
   "id": "f2ce93af",
   "metadata": {},
   "outputs": [],
   "source": [
    "from plugins.AzureMonitor.native_function import sloganalytics\n",
    "Mon_plugin = kernel.import_skill(sloganalytics(kernel1), skill_name=\"AzureMonitor\") # import the skill\n",
    "variables = ContextVariables()\n",
    "variables[\"description\"] = \"test\""
   ]
  },
  {
   "cell_type": "markdown",
   "id": "f5026081",
   "metadata": {},
   "source": [
    "# Step 6 Executing native function"
   ]
  },
  {
   "cell_type": "code",
   "execution_count": null,
   "id": "c67b7e03",
   "metadata": {},
   "outputs": [],
   "source": [
    "variables[\"title\"] = \"please share all sign-in location?\"\n",
    "result = await kernel.run_async( Mon_plugin[\"slquery\"], input_vars=variables )\n",
    "print(variables[\"Df\"])"
   ]
  }
 ],
 "metadata": {
  "kernelspec": {
   "display_name": "Python 3 (ipykernel)",
   "language": "python",
   "name": "python3"
  },
  "language_info": {
   "codemirror_mode": {
    "name": "ipython",
    "version": 3
   },
   "file_extension": ".py",
   "mimetype": "text/x-python",
   "name": "python",
   "nbconvert_exporter": "python",
   "pygments_lexer": "ipython3",
   "version": "3.11.5"
  }
 },
 "nbformat": 4,
 "nbformat_minor": 5
}
